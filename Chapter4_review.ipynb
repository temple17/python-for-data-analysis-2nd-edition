{
  "nbformat": 4,
  "nbformat_minor": 0,
  "metadata": {
    "colab": {
      "name": "Chapter4 review.ipynb",
      "provenance": [],
      "authorship_tag": "ABX9TyOxhVFrypcKdIszTdwPNrqp",
      "include_colab_link": true
    },
    "kernelspec": {
      "name": "python3",
      "display_name": "Python 3"
    },
    "language_info": {
      "name": "python"
    }
  },
  "cells": [
    {
      "cell_type": "markdown",
      "metadata": {
        "id": "view-in-github",
        "colab_type": "text"
      },
      "source": [
        "<a href=\"https://colab.research.google.com/github/temple17/python-for-data-analysis-2nd-edition/blob/main/Chapter4_review.ipynb\" target=\"_parent\"><img src=\"https://colab.research.google.com/assets/colab-badge.svg\" alt=\"Open In Colab\"/></a>"
      ]
    },
    {
      "cell_type": "code",
      "metadata": {
        "id": "FyIxjdIWjdmY"
      },
      "source": [
        "import numpy as np"
      ],
      "execution_count": null,
      "outputs": []
    },
    {
      "cell_type": "code",
      "metadata": {
        "id": "8b4VOr3LlpPQ"
      },
      "source": [
        "my_arr = np.arange(1000)"
      ],
      "execution_count": null,
      "outputs": []
    },
    {
      "cell_type": "code",
      "metadata": {
        "id": "C7x1PlmOlr1x"
      },
      "source": [
        "my_list = list(range(100000))"
      ],
      "execution_count": null,
      "outputs": []
    },
    {
      "cell_type": "code",
      "metadata": {
        "colab": {
          "base_uri": "https://localhost:8080/"
        },
        "id": "Gcfw70BCT8FO",
        "outputId": "2fb0a0f2-e301-4c23-ddc8-a65e34cbe339"
      },
      "source": [
        "%time for _ in range(10): my_arr2 = my_arr * 2"
      ],
      "execution_count": null,
      "outputs": [
        {
          "output_type": "stream",
          "name": "stdout",
          "text": [
            "CPU times: user 1.09 ms, sys: 47 µs, total: 1.14 ms\n",
            "Wall time: 5.54 ms\n"
          ]
        }
      ]
    },
    {
      "cell_type": "code",
      "metadata": {
        "colab": {
          "base_uri": "https://localhost:8080/"
        },
        "id": "6i_sjvNFUApT",
        "outputId": "6bc0ad32-ea08-4ca5-950d-429bb2bfdc6d"
      },
      "source": [
        "%time for _ in range(10): my_list2 = [x * 2 for x in my_list]"
      ],
      "execution_count": null,
      "outputs": [
        {
          "output_type": "stream",
          "name": "stdout",
          "text": [
            "CPU times: user 84.4 ms, sys: 13.9 ms, total: 98.3 ms\n",
            "Wall time: 102 ms\n"
          ]
        }
      ]
    },
    {
      "cell_type": "code",
      "metadata": {
        "id": "YyJxic4hUkU5"
      },
      "source": [
        "data = np.random.randn(2,3)"
      ],
      "execution_count": null,
      "outputs": []
    },
    {
      "cell_type": "code",
      "metadata": {
        "colab": {
          "base_uri": "https://localhost:8080/"
        },
        "id": "nIW8mpniUH3K",
        "outputId": "9e80f84f-3e9d-4979-cb60-3dc15ea182d2"
      },
      "source": [
        "data"
      ],
      "execution_count": null,
      "outputs": [
        {
          "output_type": "execute_result",
          "data": {
            "text/plain": [
              "array([[ 1.23416451,  1.25088244, -0.27317522],\n",
              "       [-1.42248075,  0.43013927,  1.33143634]])"
            ]
          },
          "metadata": {},
          "execution_count": 8
        }
      ]
    },
    {
      "cell_type": "code",
      "metadata": {
        "colab": {
          "base_uri": "https://localhost:8080/"
        },
        "id": "TbBEpEhwUoQJ",
        "outputId": "08377a88-aa94-4a89-fe9d-30d42f75aa49"
      },
      "source": [
        "data * 10"
      ],
      "execution_count": null,
      "outputs": [
        {
          "output_type": "execute_result",
          "data": {
            "text/plain": [
              "array([[ 12.34164508,  12.50882444,  -2.73175221],\n",
              "       [-14.22480754,   4.30139272,  13.31436337]])"
            ]
          },
          "metadata": {},
          "execution_count": 9
        }
      ]
    },
    {
      "cell_type": "code",
      "metadata": {
        "colab": {
          "base_uri": "https://localhost:8080/"
        },
        "id": "amdomMfFUp_b",
        "outputId": "4dc5b672-46df-4d27-b1a2-be8160666727"
      },
      "source": [
        "data"
      ],
      "execution_count": null,
      "outputs": [
        {
          "output_type": "execute_result",
          "data": {
            "text/plain": [
              "array([[ 1.23416451,  1.25088244, -0.27317522],\n",
              "       [-1.42248075,  0.43013927,  1.33143634]])"
            ]
          },
          "metadata": {},
          "execution_count": 10
        }
      ]
    },
    {
      "cell_type": "code",
      "metadata": {
        "colab": {
          "base_uri": "https://localhost:8080/"
        },
        "id": "LoQcmbo0UquT",
        "outputId": "e18d21a5-b429-409c-c786-9ad1491693a9"
      },
      "source": [
        "data.shape"
      ],
      "execution_count": null,
      "outputs": [
        {
          "output_type": "execute_result",
          "data": {
            "text/plain": [
              "(2, 3)"
            ]
          },
          "metadata": {},
          "execution_count": 11
        }
      ]
    },
    {
      "cell_type": "code",
      "metadata": {
        "colab": {
          "base_uri": "https://localhost:8080/"
        },
        "id": "a0LZZ_k1UwlI",
        "outputId": "8b2fb1c8-b27a-4f08-d181-04f0ba9e1810"
      },
      "source": [
        "data.dtype"
      ],
      "execution_count": null,
      "outputs": [
        {
          "output_type": "execute_result",
          "data": {
            "text/plain": [
              "dtype('float64')"
            ]
          },
          "metadata": {},
          "execution_count": 12
        }
      ]
    },
    {
      "cell_type": "code",
      "metadata": {
        "id": "y4IyytudUxTJ"
      },
      "source": [
        "data1 = [6,7.5,8.,0.,1.]"
      ],
      "execution_count": null,
      "outputs": []
    },
    {
      "cell_type": "code",
      "metadata": {
        "id": "UfswN38zU2by"
      },
      "source": [
        "arr1 = np.array(data1)"
      ],
      "execution_count": null,
      "outputs": []
    },
    {
      "cell_type": "code",
      "metadata": {
        "colab": {
          "base_uri": "https://localhost:8080/"
        },
        "id": "re4Y-A7uU4Yp",
        "outputId": "2015522e-ea7d-49fb-e818-d9db60cf9f17"
      },
      "source": [
        "arr1"
      ],
      "execution_count": null,
      "outputs": [
        {
          "output_type": "execute_result",
          "data": {
            "text/plain": [
              "array([6. , 7.5, 8. , 0. , 1. ])"
            ]
          },
          "metadata": {},
          "execution_count": 15
        }
      ]
    },
    {
      "cell_type": "code",
      "metadata": {
        "id": "reM1Jf3NU4rw"
      },
      "source": [
        "data2 = [[1,2,3,4],[5,6,7,8]]"
      ],
      "execution_count": null,
      "outputs": []
    },
    {
      "cell_type": "code",
      "metadata": {
        "id": "yj0CRqysU9dc"
      },
      "source": [
        "arr2 = np.array(data2)"
      ],
      "execution_count": null,
      "outputs": []
    },
    {
      "cell_type": "code",
      "metadata": {
        "colab": {
          "base_uri": "https://localhost:8080/"
        },
        "id": "6H6-y0FGU-dx",
        "outputId": "c95d37f0-a66a-4d0a-c045-b3b63d5a924b"
      },
      "source": [
        "arr2"
      ],
      "execution_count": null,
      "outputs": [
        {
          "output_type": "execute_result",
          "data": {
            "text/plain": [
              "array([[1, 2, 3, 4],\n",
              "       [5, 6, 7, 8]])"
            ]
          },
          "metadata": {},
          "execution_count": 18
        }
      ]
    },
    {
      "cell_type": "code",
      "metadata": {
        "colab": {
          "base_uri": "https://localhost:8080/"
        },
        "id": "vgEYKzkNU-3W",
        "outputId": "6c416e4f-cfbc-4e20-e979-57d7c3aab413"
      },
      "source": [
        "arr2.shape"
      ],
      "execution_count": null,
      "outputs": [
        {
          "output_type": "execute_result",
          "data": {
            "text/plain": [
              "(2, 4)"
            ]
          },
          "metadata": {},
          "execution_count": 19
        }
      ]
    },
    {
      "cell_type": "code",
      "metadata": {
        "colab": {
          "base_uri": "https://localhost:8080/"
        },
        "id": "wrDsYZxzVBOl",
        "outputId": "4db93161-6244-4146-9965-3a0594b167fe"
      },
      "source": [
        "np.zeros(10)"
      ],
      "execution_count": null,
      "outputs": [
        {
          "output_type": "execute_result",
          "data": {
            "text/plain": [
              "array([0., 0., 0., 0., 0., 0., 0., 0., 0., 0.])"
            ]
          },
          "metadata": {},
          "execution_count": 20
        }
      ]
    },
    {
      "cell_type": "code",
      "metadata": {
        "colab": {
          "base_uri": "https://localhost:8080/"
        },
        "id": "01gStM0pVDn0",
        "outputId": "e21f80ed-802d-4b12-a407-bc02dee2591e"
      },
      "source": [
        "np.zeros((3,6))"
      ],
      "execution_count": null,
      "outputs": [
        {
          "output_type": "execute_result",
          "data": {
            "text/plain": [
              "array([[0., 0., 0., 0., 0., 0.],\n",
              "       [0., 0., 0., 0., 0., 0.],\n",
              "       [0., 0., 0., 0., 0., 0.]])"
            ]
          },
          "metadata": {},
          "execution_count": 22
        }
      ]
    },
    {
      "cell_type": "code",
      "metadata": {
        "colab": {
          "base_uri": "https://localhost:8080/"
        },
        "id": "CFLeMeuXVGS4",
        "outputId": "66a35b3b-b4a6-4ec0-a076-26eb9b57339e"
      },
      "source": [
        "np.empty((2,3,2))"
      ],
      "execution_count": null,
      "outputs": [
        {
          "output_type": "execute_result",
          "data": {
            "text/plain": [
              "array([[[4.68685842e-310, 0.00000000e+000],\n",
              "        [8.06809200e-321, 4.68685764e-310],\n",
              "        [6.91263606e-310, 6.91263606e-310]],\n",
              "\n",
              "       [[6.91263606e-310, 6.91263606e-310],\n",
              "        [4.68685842e-310, 9.88131292e-324],\n",
              "        [2.12199579e-314, 4.44659081e-323]]])"
            ]
          },
          "metadata": {},
          "execution_count": 23
        }
      ]
    },
    {
      "cell_type": "code",
      "metadata": {
        "colab": {
          "base_uri": "https://localhost:8080/"
        },
        "id": "E_g3b6K4VKBM",
        "outputId": "15b1ec6b-5a2e-4829-f3a4-a2ba1a278ee4"
      },
      "source": [
        "np.empty((2,3))"
      ],
      "execution_count": null,
      "outputs": [
        {
          "output_type": "execute_result",
          "data": {
            "text/plain": [
              "array([[1.23416451, 1.25088244, 0.27317522],\n",
              "       [1.42248075, 0.43013927, 1.33143634]])"
            ]
          },
          "metadata": {},
          "execution_count": 30
        }
      ]
    },
    {
      "cell_type": "code",
      "metadata": {
        "colab": {
          "base_uri": "https://localhost:8080/"
        },
        "id": "UWOfdj1fVW4o",
        "outputId": "7152096d-5586-43ea-bc90-26471466a2a5"
      },
      "source": [
        "np.empty((1,2))"
      ],
      "execution_count": null,
      "outputs": [
        {
          "output_type": "execute_result",
          "data": {
            "text/plain": [
              "array([[4.68685688e-310, 9.88131292e-324]])"
            ]
          },
          "metadata": {},
          "execution_count": 33
        }
      ]
    },
    {
      "cell_type": "code",
      "metadata": {
        "colab": {
          "base_uri": "https://localhost:8080/"
        },
        "id": "43vPADB1VfHa",
        "outputId": "959b890c-cfb9-429a-9d8a-3ba2a713e764"
      },
      "source": [
        "np.arange(15)"
      ],
      "execution_count": null,
      "outputs": [
        {
          "output_type": "execute_result",
          "data": {
            "text/plain": [
              "array([ 0,  1,  2,  3,  4,  5,  6,  7,  8,  9, 10, 11, 12, 13, 14])"
            ]
          },
          "metadata": {},
          "execution_count": 34
        }
      ]
    },
    {
      "cell_type": "code",
      "metadata": {
        "id": "ToomWDxoVj9T"
      },
      "source": [
        "arr1 = np.array([1,2,3], dtype = np.float64)"
      ],
      "execution_count": null,
      "outputs": []
    },
    {
      "cell_type": "code",
      "metadata": {
        "colab": {
          "base_uri": "https://localhost:8080/"
        },
        "id": "djLWl4rKVnq6",
        "outputId": "1acef73f-d4d3-4618-d89d-fc9662bc862a"
      },
      "source": [
        "arr1"
      ],
      "execution_count": null,
      "outputs": [
        {
          "output_type": "execute_result",
          "data": {
            "text/plain": [
              "array([1., 2., 3.])"
            ]
          },
          "metadata": {},
          "execution_count": 37
        }
      ]
    },
    {
      "cell_type": "code",
      "metadata": {
        "id": "HepJeQ_CVqwA"
      },
      "source": [
        "arr1 = np.array([1,2,3], dtype = np.int32)"
      ],
      "execution_count": null,
      "outputs": []
    },
    {
      "cell_type": "code",
      "metadata": {
        "colab": {
          "base_uri": "https://localhost:8080/"
        },
        "id": "ngwH8bEfVunK",
        "outputId": "0099f229-320a-48c6-d4e9-48cae9ac7873"
      },
      "source": [
        "arr1"
      ],
      "execution_count": null,
      "outputs": [
        {
          "output_type": "execute_result",
          "data": {
            "text/plain": [
              "array([1, 2, 3], dtype=int32)"
            ]
          },
          "metadata": {},
          "execution_count": 39
        }
      ]
    },
    {
      "cell_type": "code",
      "metadata": {
        "id": "OYxIi15xVvHn"
      },
      "source": [
        "arr = np.array([1,2,3,4,5])"
      ],
      "execution_count": null,
      "outputs": []
    },
    {
      "cell_type": "code",
      "metadata": {
        "colab": {
          "base_uri": "https://localhost:8080/"
        },
        "id": "3_euBVpKVzbK",
        "outputId": "bfd003d4-b709-4cc1-a1d4-16d100fa95a6"
      },
      "source": [
        "arr.dtype"
      ],
      "execution_count": null,
      "outputs": [
        {
          "output_type": "execute_result",
          "data": {
            "text/plain": [
              "dtype('int64')"
            ]
          },
          "metadata": {},
          "execution_count": 41
        }
      ]
    },
    {
      "cell_type": "code",
      "metadata": {
        "id": "symY9gNDVz7b"
      },
      "source": [
        "float_arr = arr.astype(np.float64)"
      ],
      "execution_count": null,
      "outputs": []
    },
    {
      "cell_type": "code",
      "metadata": {
        "colab": {
          "base_uri": "https://localhost:8080/"
        },
        "id": "LnPl9W7HV3C3",
        "outputId": "d6ecca5e-e45d-49d4-d2fd-cc485ce68f5c"
      },
      "source": [
        "float_arr"
      ],
      "execution_count": null,
      "outputs": [
        {
          "output_type": "execute_result",
          "data": {
            "text/plain": [
              "array([1., 2., 3., 4., 5.])"
            ]
          },
          "metadata": {},
          "execution_count": 43
        }
      ]
    },
    {
      "cell_type": "code",
      "metadata": {
        "id": "hTndAXpPV6iy"
      },
      "source": [
        "arr = np.array([3.7,-1.2,-2.6,0.5,12.9,10.1])"
      ],
      "execution_count": null,
      "outputs": []
    },
    {
      "cell_type": "code",
      "metadata": {
        "colab": {
          "base_uri": "https://localhost:8080/"
        },
        "id": "aRW_LnHIWO-p",
        "outputId": "267da798-2167-492d-d1f4-8135aaf2172e"
      },
      "source": [
        "arr.astype(np.int32)"
      ],
      "execution_count": null,
      "outputs": [
        {
          "output_type": "execute_result",
          "data": {
            "text/plain": [
              "array([ 3, -1, -2,  0, 12, 10], dtype=int32)"
            ]
          },
          "metadata": {},
          "execution_count": 45
        }
      ]
    },
    {
      "cell_type": "code",
      "metadata": {
        "colab": {
          "base_uri": "https://localhost:8080/"
        },
        "id": "ht7RUl-eWQfa",
        "outputId": "dd91b1f4-5ebd-4960-d20b-d7d812a33d65"
      },
      "source": [
        "arr"
      ],
      "execution_count": null,
      "outputs": [
        {
          "output_type": "execute_result",
          "data": {
            "text/plain": [
              "array([ 3.7, -1.2, -2.6,  0.5, 12.9, 10.1])"
            ]
          },
          "metadata": {},
          "execution_count": 46
        }
      ]
    },
    {
      "cell_type": "code",
      "metadata": {
        "id": "MjZ6SDNpWQ-5"
      },
      "source": [
        "numeric_strings = np.array(['1.25','-9.6','42'], dtype = np.string_)"
      ],
      "execution_count": null,
      "outputs": []
    },
    {
      "cell_type": "code",
      "metadata": {
        "colab": {
          "base_uri": "https://localhost:8080/"
        },
        "id": "R1x2eacjWYZp",
        "outputId": "ce1d5d0f-fb11-4e7a-ed98-93bb81e0e56c"
      },
      "source": [
        "numeric_strings"
      ],
      "execution_count": null,
      "outputs": [
        {
          "output_type": "execute_result",
          "data": {
            "text/plain": [
              "array([b'1.25', b'-9.6', b'42'], dtype='|S4')"
            ]
          },
          "metadata": {},
          "execution_count": 49
        }
      ]
    },
    {
      "cell_type": "code",
      "metadata": {
        "colab": {
          "base_uri": "https://localhost:8080/"
        },
        "id": "Xs0PfDLpWb53",
        "outputId": "87e14b93-3623-4d38-8e47-3119dbc7d36c"
      },
      "source": [
        "numeric_strings.astype(np.float64)"
      ],
      "execution_count": null,
      "outputs": [
        {
          "output_type": "execute_result",
          "data": {
            "text/plain": [
              "array([ 1.25, -9.6 , 42.  ])"
            ]
          },
          "metadata": {},
          "execution_count": 50
        }
      ]
    },
    {
      "cell_type": "code",
      "metadata": {
        "id": "XuhbjMalWjjp"
      },
      "source": [
        "int_array = np.arange(10)"
      ],
      "execution_count": null,
      "outputs": []
    },
    {
      "cell_type": "code",
      "metadata": {
        "id": "ynr0L6ZeWnng"
      },
      "source": [
        "calibers = np.array([.22,.270,.357,.380,.44,.50], dtype = np.float64)"
      ],
      "execution_count": null,
      "outputs": []
    },
    {
      "cell_type": "code",
      "metadata": {
        "colab": {
          "base_uri": "https://localhost:8080/"
        },
        "id": "_-aHJhlbWtaV",
        "outputId": "63fa952e-739a-470f-a3a4-c1c170636586"
      },
      "source": [
        "int_array.astype(calibers.dtype)"
      ],
      "execution_count": null,
      "outputs": [
        {
          "output_type": "execute_result",
          "data": {
            "text/plain": [
              "array([0., 1., 2., 3., 4., 5., 6., 7., 8., 9.])"
            ]
          },
          "metadata": {},
          "execution_count": 53
        }
      ]
    },
    {
      "cell_type": "code",
      "metadata": {
        "id": "XE1_o5I2WxxZ"
      },
      "source": [
        "empty_unit32 = np.empty(8, dtype = 'u4')"
      ],
      "execution_count": null,
      "outputs": []
    },
    {
      "cell_type": "code",
      "metadata": {
        "id": "dQW4sv1rW2gK"
      },
      "source": [
        "arr = np.array([[1.,2.,3.], [4.,5.,6.]])"
      ],
      "execution_count": null,
      "outputs": []
    },
    {
      "cell_type": "code",
      "metadata": {
        "colab": {
          "base_uri": "https://localhost:8080/"
        },
        "id": "vXdog4ecW7oL",
        "outputId": "e8ee872d-14df-4b93-e899-49a1763cc13b"
      },
      "source": [
        "arr * arr"
      ],
      "execution_count": null,
      "outputs": [
        {
          "output_type": "execute_result",
          "data": {
            "text/plain": [
              "array([[ 1.,  4.,  9.],\n",
              "       [16., 25., 36.]])"
            ]
          },
          "metadata": {},
          "execution_count": 56
        }
      ]
    },
    {
      "cell_type": "code",
      "metadata": {
        "colab": {
          "base_uri": "https://localhost:8080/"
        },
        "id": "yVH1vPMpW8qa",
        "outputId": "1c07368d-7045-4c61-e967-d45bcaa2b9c8"
      },
      "source": [
        "arr - arr"
      ],
      "execution_count": null,
      "outputs": [
        {
          "output_type": "execute_result",
          "data": {
            "text/plain": [
              "array([[0., 0., 0.],\n",
              "       [0., 0., 0.]])"
            ]
          },
          "metadata": {},
          "execution_count": 57
        }
      ]
    },
    {
      "cell_type": "code",
      "metadata": {
        "colab": {
          "base_uri": "https://localhost:8080/"
        },
        "id": "bOW5DPoLW_Zs",
        "outputId": "e4ddc942-18e8-49fb-debc-a2d1602551a7"
      },
      "source": [
        "1/arr"
      ],
      "execution_count": null,
      "outputs": [
        {
          "output_type": "execute_result",
          "data": {
            "text/plain": [
              "array([[1.        , 0.5       , 0.33333333],\n",
              "       [0.25      , 0.2       , 0.16666667]])"
            ]
          },
          "metadata": {},
          "execution_count": 58
        }
      ]
    },
    {
      "cell_type": "code",
      "metadata": {
        "colab": {
          "base_uri": "https://localhost:8080/"
        },
        "id": "Y_05J1xYXASR",
        "outputId": "b47b5c24-cb0b-49e0-fe0f-2910c0f96b90"
      },
      "source": [
        "arr ** 0.5"
      ],
      "execution_count": null,
      "outputs": [
        {
          "output_type": "execute_result",
          "data": {
            "text/plain": [
              "array([[1.        , 1.41421356, 1.73205081],\n",
              "       [2.        , 2.23606798, 2.44948974]])"
            ]
          },
          "metadata": {},
          "execution_count": 59
        }
      ]
    },
    {
      "cell_type": "code",
      "metadata": {
        "id": "t7pJfcjJXCG7"
      },
      "source": [
        "arr2 = np.array([[0.,4.,1.],[7.,2.,12.]])"
      ],
      "execution_count": null,
      "outputs": []
    },
    {
      "cell_type": "code",
      "metadata": {
        "colab": {
          "base_uri": "https://localhost:8080/"
        },
        "id": "MCR3s-iAXFlc",
        "outputId": "3b21710f-0e11-48af-c1c9-79f42306b919"
      },
      "source": [
        "arr2"
      ],
      "execution_count": null,
      "outputs": [
        {
          "output_type": "execute_result",
          "data": {
            "text/plain": [
              "array([[ 0.,  4.,  1.],\n",
              "       [ 7.,  2., 12.]])"
            ]
          },
          "metadata": {},
          "execution_count": 61
        }
      ]
    },
    {
      "cell_type": "code",
      "metadata": {
        "colab": {
          "base_uri": "https://localhost:8080/"
        },
        "id": "ieTc9yTYXGGu",
        "outputId": "8eb32abe-ed6f-4df0-b7d1-9455fd19a161"
      },
      "source": [
        "arr2 > arr"
      ],
      "execution_count": null,
      "outputs": [
        {
          "output_type": "execute_result",
          "data": {
            "text/plain": [
              "array([[False,  True, False],\n",
              "       [ True, False,  True]])"
            ]
          },
          "metadata": {},
          "execution_count": 63
        }
      ]
    },
    {
      "cell_type": "code",
      "metadata": {
        "id": "4LDXm7IyXIzH"
      },
      "source": [
        "arr = np.arange(10)"
      ],
      "execution_count": null,
      "outputs": []
    },
    {
      "cell_type": "code",
      "metadata": {
        "colab": {
          "base_uri": "https://localhost:8080/"
        },
        "id": "IvlvceYOXPh5",
        "outputId": "ead2ba9c-e0a2-48d3-915d-f5e6fa4be55e"
      },
      "source": [
        "arr"
      ],
      "execution_count": null,
      "outputs": [
        {
          "output_type": "execute_result",
          "data": {
            "text/plain": [
              "array([0, 1, 2, 3, 4, 5, 6, 7, 8, 9])"
            ]
          },
          "metadata": {},
          "execution_count": 65
        }
      ]
    },
    {
      "cell_type": "code",
      "metadata": {
        "colab": {
          "base_uri": "https://localhost:8080/"
        },
        "id": "PrhbzlNKXQAf",
        "outputId": "4093bc1f-4479-4820-bf19-8d144693d19a"
      },
      "source": [
        "arr[5]"
      ],
      "execution_count": null,
      "outputs": [
        {
          "output_type": "execute_result",
          "data": {
            "text/plain": [
              "5"
            ]
          },
          "metadata": {},
          "execution_count": 66
        }
      ]
    },
    {
      "cell_type": "code",
      "metadata": {
        "colab": {
          "base_uri": "https://localhost:8080/"
        },
        "id": "qzyPYZDuXSTs",
        "outputId": "a2189ebb-7697-4e54-ebad-7d6bdf57eb44"
      },
      "source": [
        "arr[5:8]"
      ],
      "execution_count": null,
      "outputs": [
        {
          "output_type": "execute_result",
          "data": {
            "text/plain": [
              "array([5, 6, 7])"
            ]
          },
          "metadata": {},
          "execution_count": 67
        }
      ]
    },
    {
      "cell_type": "code",
      "metadata": {
        "id": "3xgxsebDXTZv"
      },
      "source": [
        "arr[5:8] = 12"
      ],
      "execution_count": null,
      "outputs": []
    },
    {
      "cell_type": "code",
      "metadata": {
        "id": "QYcNWnm_XVG1"
      },
      "source": [
        "arr_slice = arr[5:8]"
      ],
      "execution_count": null,
      "outputs": []
    },
    {
      "cell_type": "code",
      "metadata": {
        "id": "Ls6EPwp2XWjD"
      },
      "source": [
        "arr_slice[1] = 12345"
      ],
      "execution_count": null,
      "outputs": []
    },
    {
      "cell_type": "code",
      "metadata": {
        "colab": {
          "base_uri": "https://localhost:8080/"
        },
        "id": "xJrtUz_hXYZx",
        "outputId": "db6dba68-9d12-4c19-b9b4-39cb11c0094a"
      },
      "source": [
        "arr"
      ],
      "execution_count": null,
      "outputs": [
        {
          "output_type": "execute_result",
          "data": {
            "text/plain": [
              "array([    0,     1,     2,     3,     4,    12, 12345,    12,     8,\n",
              "           9])"
            ]
          },
          "metadata": {},
          "execution_count": 71
        }
      ]
    },
    {
      "cell_type": "code",
      "metadata": {
        "id": "e9RM4k7MXZTI"
      },
      "source": [
        "arr_slice[:] = 64"
      ],
      "execution_count": null,
      "outputs": []
    },
    {
      "cell_type": "code",
      "metadata": {
        "colab": {
          "base_uri": "https://localhost:8080/"
        },
        "id": "neNQnH2iXd9L",
        "outputId": "4b8a096e-0a2d-45fa-9b45-f018093ba3c4"
      },
      "source": [
        "arr"
      ],
      "execution_count": null,
      "outputs": [
        {
          "output_type": "execute_result",
          "data": {
            "text/plain": [
              "array([ 0,  1,  2,  3,  4, 64, 64, 64,  8,  9])"
            ]
          },
          "metadata": {},
          "execution_count": 73
        }
      ]
    },
    {
      "cell_type": "code",
      "metadata": {
        "id": "rCW-cK7OXfZY"
      },
      "source": [
        "arr2d = np.array([[1,2,3],[4,5,6],[7,8,9]])"
      ],
      "execution_count": null,
      "outputs": []
    },
    {
      "cell_type": "code",
      "metadata": {
        "colab": {
          "base_uri": "https://localhost:8080/"
        },
        "id": "15-bOtPxX6fc",
        "outputId": "0871dcb9-c403-4c12-e9e4-5d9c26b7a982"
      },
      "source": [
        "arr2d[2]"
      ],
      "execution_count": null,
      "outputs": [
        {
          "output_type": "execute_result",
          "data": {
            "text/plain": [
              "array([7, 8, 9])"
            ]
          },
          "metadata": {},
          "execution_count": 75
        }
      ]
    },
    {
      "cell_type": "code",
      "metadata": {
        "colab": {
          "base_uri": "https://localhost:8080/"
        },
        "id": "4CF1CYyHX7KU",
        "outputId": "c869b3a4-e9e8-40e6-abee-dba424bfb2a1"
      },
      "source": [
        "arr2d[0][2]"
      ],
      "execution_count": null,
      "outputs": [
        {
          "output_type": "execute_result",
          "data": {
            "text/plain": [
              "3"
            ]
          },
          "metadata": {},
          "execution_count": 76
        }
      ]
    },
    {
      "cell_type": "code",
      "metadata": {
        "id": "XSO6Bos-X-IQ"
      },
      "source": [
        "arr3d = np.array([[[1,2,3],[4,5,6]],[[7,8,9],[10,11,12]]])"
      ],
      "execution_count": null,
      "outputs": []
    },
    {
      "cell_type": "code",
      "metadata": {
        "colab": {
          "base_uri": "https://localhost:8080/"
        },
        "id": "ZsGAzHM2YE4D",
        "outputId": "42b2dd3b-389b-4cdf-d099-a9a83a399b5c"
      },
      "source": [
        "arr3d"
      ],
      "execution_count": null,
      "outputs": [
        {
          "output_type": "execute_result",
          "data": {
            "text/plain": [
              "array([[[ 1,  2,  3],\n",
              "        [ 4,  5,  6]],\n",
              "\n",
              "       [[ 7,  8,  9],\n",
              "        [10, 11, 12]]])"
            ]
          },
          "metadata": {},
          "execution_count": 81
        }
      ]
    },
    {
      "cell_type": "code",
      "metadata": {
        "colab": {
          "base_uri": "https://localhost:8080/"
        },
        "id": "yPBX_N5pYFZa",
        "outputId": "7534348e-f310-4896-c650-7dc991ce09aa"
      },
      "source": [
        "arr3d[0]"
      ],
      "execution_count": null,
      "outputs": [
        {
          "output_type": "execute_result",
          "data": {
            "text/plain": [
              "array([[1, 2, 3],\n",
              "       [4, 5, 6]])"
            ]
          },
          "metadata": {},
          "execution_count": 82
        }
      ]
    },
    {
      "cell_type": "code",
      "metadata": {
        "id": "xMSWjl12YGgX"
      },
      "source": [
        "old_values = arr3d[0].copy()"
      ],
      "execution_count": null,
      "outputs": []
    },
    {
      "cell_type": "code",
      "metadata": {
        "id": "7x2O2PBQYQnl"
      },
      "source": [
        "arr3d[0] = 42"
      ],
      "execution_count": null,
      "outputs": []
    },
    {
      "cell_type": "code",
      "metadata": {
        "colab": {
          "base_uri": "https://localhost:8080/"
        },
        "id": "9aMqAjDWYSUV",
        "outputId": "3e578069-eba3-4e96-c362-877dd78ed3d7"
      },
      "source": [
        "arr3d"
      ],
      "execution_count": null,
      "outputs": [
        {
          "output_type": "execute_result",
          "data": {
            "text/plain": [
              "array([[[42, 42, 42],\n",
              "        [42, 42, 42]],\n",
              "\n",
              "       [[ 7,  8,  9],\n",
              "        [10, 11, 12]]])"
            ]
          },
          "metadata": {},
          "execution_count": 85
        }
      ]
    },
    {
      "cell_type": "code",
      "metadata": {
        "id": "_CJ9qfsBYS7J"
      },
      "source": [
        "arr3d[0] = old_values"
      ],
      "execution_count": null,
      "outputs": []
    },
    {
      "cell_type": "code",
      "metadata": {
        "colab": {
          "base_uri": "https://localhost:8080/"
        },
        "id": "I4v7y97mYWZD",
        "outputId": "4ac0ed09-32fc-49c2-e826-0779e9317535"
      },
      "source": [
        "arr3d"
      ],
      "execution_count": null,
      "outputs": [
        {
          "output_type": "execute_result",
          "data": {
            "text/plain": [
              "array([[[ 1,  2,  3],\n",
              "        [ 4,  5,  6]],\n",
              "\n",
              "       [[ 7,  8,  9],\n",
              "        [10, 11, 12]]])"
            ]
          },
          "metadata": {},
          "execution_count": 87
        }
      ]
    },
    {
      "cell_type": "code",
      "metadata": {
        "colab": {
          "base_uri": "https://localhost:8080/"
        },
        "id": "IQppUWtfYWu3",
        "outputId": "58cece5a-331d-4591-d5ab-4317e03b6d38"
      },
      "source": [
        "arr3d[1,0]"
      ],
      "execution_count": null,
      "outputs": [
        {
          "output_type": "execute_result",
          "data": {
            "text/plain": [
              "array([7, 8, 9])"
            ]
          },
          "metadata": {},
          "execution_count": 88
        }
      ]
    },
    {
      "cell_type": "code",
      "metadata": {
        "id": "t8ZIs-VwYaKT"
      },
      "source": [
        "x = arr3d[1]"
      ],
      "execution_count": null,
      "outputs": []
    },
    {
      "cell_type": "code",
      "metadata": {
        "colab": {
          "base_uri": "https://localhost:8080/"
        },
        "id": "JlmPCErTYfY9",
        "outputId": "acb1a5ed-e564-4ec4-d7c9-94f812357122"
      },
      "source": [
        "x"
      ],
      "execution_count": null,
      "outputs": [
        {
          "output_type": "execute_result",
          "data": {
            "text/plain": [
              "array([[ 7,  8,  9],\n",
              "       [10, 11, 12]])"
            ]
          },
          "metadata": {},
          "execution_count": 90
        }
      ]
    },
    {
      "cell_type": "code",
      "metadata": {
        "colab": {
          "base_uri": "https://localhost:8080/"
        },
        "id": "xrNz__mrYf35",
        "outputId": "cb6b2cb0-2d62-4911-c8c2-0163cf71f36e"
      },
      "source": [
        "x[0]"
      ],
      "execution_count": null,
      "outputs": [
        {
          "output_type": "execute_result",
          "data": {
            "text/plain": [
              "array([7, 8, 9])"
            ]
          },
          "metadata": {},
          "execution_count": 91
        }
      ]
    },
    {
      "cell_type": "code",
      "metadata": {
        "colab": {
          "base_uri": "https://localhost:8080/"
        },
        "id": "_Xu9QFDnYgWc",
        "outputId": "47e9074b-1430-4c88-baaa-4d18ef5f4f84"
      },
      "source": [
        "arr[1:6]"
      ],
      "execution_count": null,
      "outputs": [
        {
          "output_type": "execute_result",
          "data": {
            "text/plain": [
              "array([ 1,  2,  3,  4, 64])"
            ]
          },
          "metadata": {},
          "execution_count": 92
        }
      ]
    },
    {
      "cell_type": "code",
      "metadata": {
        "colab": {
          "base_uri": "https://localhost:8080/"
        },
        "id": "ZNYabF_MYhN4",
        "outputId": "7a53b1d1-f1c8-4546-eec8-89ac8e15f381"
      },
      "source": [
        "arr2d"
      ],
      "execution_count": null,
      "outputs": [
        {
          "output_type": "execute_result",
          "data": {
            "text/plain": [
              "array([[1, 2, 3],\n",
              "       [4, 5, 6],\n",
              "       [7, 8, 9]])"
            ]
          },
          "metadata": {},
          "execution_count": 93
        }
      ]
    },
    {
      "cell_type": "code",
      "metadata": {
        "colab": {
          "base_uri": "https://localhost:8080/"
        },
        "id": "TMN8nH5yYjfh",
        "outputId": "4d9fa4e2-7028-437b-f77f-1fc7fc7ed556"
      },
      "source": [
        "arr2d[:2]"
      ],
      "execution_count": null,
      "outputs": [
        {
          "output_type": "execute_result",
          "data": {
            "text/plain": [
              "array([[1, 2, 3],\n",
              "       [4, 5, 6]])"
            ]
          },
          "metadata": {},
          "execution_count": 94
        }
      ]
    },
    {
      "cell_type": "code",
      "metadata": {
        "colab": {
          "base_uri": "https://localhost:8080/"
        },
        "id": "aTyo8kRiYk_6",
        "outputId": "9d0997e4-ac46-4e86-b6b4-4782dab515f2"
      },
      "source": [
        "arr2d[:2,1:]"
      ],
      "execution_count": null,
      "outputs": [
        {
          "output_type": "execute_result",
          "data": {
            "text/plain": [
              "array([[2, 3],\n",
              "       [5, 6]])"
            ]
          },
          "metadata": {},
          "execution_count": 95
        }
      ]
    },
    {
      "cell_type": "code",
      "metadata": {
        "colab": {
          "base_uri": "https://localhost:8080/"
        },
        "id": "rkoWtajLYoCC",
        "outputId": "71d50f53-797c-4668-80c6-7bf8c86d073f"
      },
      "source": [
        "arr2d[1,:2]"
      ],
      "execution_count": null,
      "outputs": [
        {
          "output_type": "execute_result",
          "data": {
            "text/plain": [
              "array([4, 5])"
            ]
          },
          "metadata": {},
          "execution_count": 96
        }
      ]
    },
    {
      "cell_type": "code",
      "metadata": {
        "colab": {
          "base_uri": "https://localhost:8080/"
        },
        "id": "S-f9_6zNYrQx",
        "outputId": "e9b99b8d-f260-419c-c655-3e95cee9b7da"
      },
      "source": [
        "arr2d[:2,2]"
      ],
      "execution_count": null,
      "outputs": [
        {
          "output_type": "execute_result",
          "data": {
            "text/plain": [
              "array([3, 6])"
            ]
          },
          "metadata": {},
          "execution_count": 98
        }
      ]
    },
    {
      "cell_type": "code",
      "metadata": {
        "id": "t0AeFvHpYvPS"
      },
      "source": [
        "arr2d[:2,1:] = 0"
      ],
      "execution_count": null,
      "outputs": []
    },
    {
      "cell_type": "code",
      "metadata": {
        "colab": {
          "base_uri": "https://localhost:8080/"
        },
        "id": "hN9DyZs1Y44X",
        "outputId": "5abc1626-3a16-4422-c418-c20dd684a5c3"
      },
      "source": [
        "arr2d"
      ],
      "execution_count": null,
      "outputs": [
        {
          "output_type": "execute_result",
          "data": {
            "text/plain": [
              "array([[1, 0, 0],\n",
              "       [4, 0, 0],\n",
              "       [7, 8, 9]])"
            ]
          },
          "metadata": {},
          "execution_count": 100
        }
      ]
    },
    {
      "cell_type": "code",
      "metadata": {
        "id": "mX-XPKqBY9cM"
      },
      "source": [
        "names = np.array(['Bob','Joe','Will','Bob','Will','Joe','Joe'])"
      ],
      "execution_count": null,
      "outputs": []
    },
    {
      "cell_type": "code",
      "metadata": {
        "colab": {
          "base_uri": "https://localhost:8080/"
        },
        "id": "VCAWbm2-ZHuV",
        "outputId": "efcd226d-d5c2-4b3a-e295-6bcaef38f366"
      },
      "source": [
        "names"
      ],
      "execution_count": null,
      "outputs": [
        {
          "output_type": "execute_result",
          "data": {
            "text/plain": [
              "array(['Bob', 'Joe', 'Will', 'Bob', 'Will', 'Joe', 'Joe'], dtype='<U4')"
            ]
          },
          "metadata": {},
          "execution_count": 104
        }
      ]
    },
    {
      "cell_type": "code",
      "metadata": {
        "id": "BTdVtRSjZIcB"
      },
      "source": [
        "data = np.random.randn(7,4)"
      ],
      "execution_count": null,
      "outputs": []
    },
    {
      "cell_type": "code",
      "metadata": {
        "colab": {
          "base_uri": "https://localhost:8080/"
        },
        "id": "NmjveuTtZM9H",
        "outputId": "ab5a78d6-4681-4ffa-e7ba-7b6336f0c582"
      },
      "source": [
        "data"
      ],
      "execution_count": null,
      "outputs": [
        {
          "output_type": "execute_result",
          "data": {
            "text/plain": [
              "array([[ 0.31876243,  0.86337623,  0.64919642,  0.79422365],\n",
              "       [-0.94565214, -1.39064771,  0.23929138, -0.8160641 ],\n",
              "       [ 0.13435451,  0.79891905, -2.31561482,  1.19104793],\n",
              "       [-1.6508213 , -0.80790041, -0.6003134 ,  1.29355016],\n",
              "       [-1.60436986, -0.21611568,  0.43218322, -1.35671909],\n",
              "       [-0.4929073 , -0.85754615, -1.19045764,  1.3140394 ],\n",
              "       [-0.32639772, -1.85617906, -0.18242277,  1.3086484 ]])"
            ]
          },
          "metadata": {},
          "execution_count": 107
        }
      ]
    },
    {
      "cell_type": "code",
      "metadata": {
        "colab": {
          "base_uri": "https://localhost:8080/"
        },
        "id": "uCPliZ9OZOnK",
        "outputId": "3aacd8e1-471a-4dcf-8a7c-90ce3793a837"
      },
      "source": [
        "names == 'Bob'"
      ],
      "execution_count": null,
      "outputs": [
        {
          "output_type": "execute_result",
          "data": {
            "text/plain": [
              "array([ True, False, False,  True, False, False, False])"
            ]
          },
          "metadata": {},
          "execution_count": 108
        }
      ]
    },
    {
      "cell_type": "code",
      "metadata": {
        "colab": {
          "base_uri": "https://localhost:8080/"
        },
        "id": "NA8yoJyPZSw8",
        "outputId": "905c8bc8-3637-4b3d-847e-051a314ae093"
      },
      "source": [
        "data[names=='Bob']"
      ],
      "execution_count": null,
      "outputs": [
        {
          "output_type": "execute_result",
          "data": {
            "text/plain": [
              "array([[ 0.31876243,  0.86337623,  0.64919642,  0.79422365],\n",
              "       [-1.6508213 , -0.80790041, -0.6003134 ,  1.29355016]])"
            ]
          },
          "metadata": {},
          "execution_count": 111
        }
      ]
    },
    {
      "cell_type": "code",
      "metadata": {
        "colab": {
          "base_uri": "https://localhost:8080/"
        },
        "id": "LTXzyvQ4ZUvO",
        "outputId": "cf0452c6-71d8-4077-e3ea-cd1fabbe9015"
      },
      "source": [
        "data[names=='Bob', 2:]"
      ],
      "execution_count": null,
      "outputs": [
        {
          "output_type": "execute_result",
          "data": {
            "text/plain": [
              "array([[ 0.64919642,  0.79422365],\n",
              "       [-0.6003134 ,  1.29355016]])"
            ]
          },
          "metadata": {},
          "execution_count": 112
        }
      ]
    },
    {
      "cell_type": "code",
      "metadata": {
        "colab": {
          "base_uri": "https://localhost:8080/"
        },
        "id": "fBLMMpXuZcio",
        "outputId": "52513853-3a01-40a7-9a3f-dedd1a4bb63f"
      },
      "source": [
        "data[~(names=='Bob')]"
      ],
      "execution_count": null,
      "outputs": [
        {
          "output_type": "execute_result",
          "data": {
            "text/plain": [
              "array([[-0.94565214, -1.39064771,  0.23929138, -0.8160641 ],\n",
              "       [ 0.13435451,  0.79891905, -2.31561482,  1.19104793],\n",
              "       [-1.60436986, -0.21611568,  0.43218322, -1.35671909],\n",
              "       [-0.4929073 , -0.85754615, -1.19045764,  1.3140394 ],\n",
              "       [-0.32639772, -1.85617906, -0.18242277,  1.3086484 ]])"
            ]
          },
          "metadata": {},
          "execution_count": 113
        }
      ]
    },
    {
      "cell_type": "code",
      "metadata": {
        "id": "lIqMADESZhBY"
      },
      "source": [
        "cond = names == 'Bob'"
      ],
      "execution_count": null,
      "outputs": []
    },
    {
      "cell_type": "code",
      "metadata": {
        "colab": {
          "base_uri": "https://localhost:8080/"
        },
        "id": "78uXhD1TZmhW",
        "outputId": "d305ea56-8c93-41ed-bb7f-a20f00d40db7"
      },
      "source": [
        "data[~cond]"
      ],
      "execution_count": null,
      "outputs": [
        {
          "output_type": "execute_result",
          "data": {
            "text/plain": [
              "array([[-0.94565214, -1.39064771,  0.23929138, -0.8160641 ],\n",
              "       [ 0.13435451,  0.79891905, -2.31561482,  1.19104793],\n",
              "       [-1.60436986, -0.21611568,  0.43218322, -1.35671909],\n",
              "       [-0.4929073 , -0.85754615, -1.19045764,  1.3140394 ],\n",
              "       [-0.32639772, -1.85617906, -0.18242277,  1.3086484 ]])"
            ]
          },
          "metadata": {},
          "execution_count": 115
        }
      ]
    },
    {
      "cell_type": "code",
      "metadata": {
        "id": "79ImYG6EZnWi"
      },
      "source": [
        "mask = (names == 'Bob') | (names == 'Will')"
      ],
      "execution_count": null,
      "outputs": []
    },
    {
      "cell_type": "code",
      "metadata": {
        "colab": {
          "base_uri": "https://localhost:8080/"
        },
        "id": "PznqCzyeZ07j",
        "outputId": "0622f3a9-a6fc-4f58-aa99-bd4c4843728b"
      },
      "source": [
        "data[mask]"
      ],
      "execution_count": null,
      "outputs": [
        {
          "output_type": "execute_result",
          "data": {
            "text/plain": [
              "array([[ 0.31876243,  0.86337623,  0.64919642,  0.79422365],\n",
              "       [ 0.13435451,  0.79891905, -2.31561482,  1.19104793],\n",
              "       [-1.6508213 , -0.80790041, -0.6003134 ,  1.29355016],\n",
              "       [-1.60436986, -0.21611568,  0.43218322, -1.35671909]])"
            ]
          },
          "metadata": {},
          "execution_count": 117
        }
      ]
    },
    {
      "cell_type": "code",
      "metadata": {
        "id": "PQrPHfSYZ15t"
      },
      "source": [
        "data[data<0] = 0"
      ],
      "execution_count": null,
      "outputs": []
    },
    {
      "cell_type": "code",
      "metadata": {
        "colab": {
          "base_uri": "https://localhost:8080/"
        },
        "id": "lRPwTqYdZ4jL",
        "outputId": "ab02e27c-d824-4038-b4a1-d56af9f64b07"
      },
      "source": [
        "data"
      ],
      "execution_count": null,
      "outputs": [
        {
          "output_type": "execute_result",
          "data": {
            "text/plain": [
              "array([[0.31876243, 0.86337623, 0.64919642, 0.79422365],\n",
              "       [0.        , 0.        , 0.23929138, 0.        ],\n",
              "       [0.13435451, 0.79891905, 0.        , 1.19104793],\n",
              "       [0.        , 0.        , 0.        , 1.29355016],\n",
              "       [0.        , 0.        , 0.43218322, 0.        ],\n",
              "       [0.        , 0.        , 0.        , 1.3140394 ],\n",
              "       [0.        , 0.        , 0.        , 1.3086484 ]])"
            ]
          },
          "metadata": {},
          "execution_count": 119
        }
      ]
    },
    {
      "cell_type": "code",
      "metadata": {
        "id": "xh0PLAMPZ5JW"
      },
      "source": [
        "data[names != 'Joe'] = 7"
      ],
      "execution_count": null,
      "outputs": []
    },
    {
      "cell_type": "code",
      "metadata": {
        "colab": {
          "base_uri": "https://localhost:8080/"
        },
        "id": "ibqNz42JZ_wb",
        "outputId": "e21637df-d204-44e3-e9d5-e289b374e2d7"
      },
      "source": [
        "data"
      ],
      "execution_count": null,
      "outputs": [
        {
          "output_type": "execute_result",
          "data": {
            "text/plain": [
              "array([[7.        , 7.        , 7.        , 7.        ],\n",
              "       [0.        , 0.        , 0.23929138, 0.        ],\n",
              "       [7.        , 7.        , 7.        , 7.        ],\n",
              "       [7.        , 7.        , 7.        , 7.        ],\n",
              "       [7.        , 7.        , 7.        , 7.        ],\n",
              "       [0.        , 0.        , 0.        , 1.3140394 ],\n",
              "       [0.        , 0.        , 0.        , 1.3086484 ]])"
            ]
          },
          "metadata": {},
          "execution_count": 121
        }
      ]
    },
    {
      "cell_type": "code",
      "metadata": {
        "id": "sT3KbQEAaA1y"
      },
      "source": [
        "arr = np.empty((8,4))"
      ],
      "execution_count": null,
      "outputs": []
    },
    {
      "cell_type": "code",
      "metadata": {
        "colab": {
          "base_uri": "https://localhost:8080/"
        },
        "id": "0YkH5uzoaEE4",
        "outputId": "aca8dd8a-8eae-401c-e437-132bf5f3c6e2"
      },
      "source": [
        "arr"
      ],
      "execution_count": null,
      "outputs": [
        {
          "output_type": "execute_result",
          "data": {
            "text/plain": [
              "array([[4.68685703e-310, 1.01777523e-321, 0.00000000e+000,\n",
              "        0.00000000e+000],\n",
              "       [0.00000000e+000, 2.14027814e+161, 1.47762371e+248,\n",
              "        4.30625279e-096],\n",
              "       [1.12855837e+277, 3.62607434e+228, 8.37404121e+242,\n",
              "        4.31999013e-096],\n",
              "       [5.02034658e+175, 5.79465917e+170, 6.09637924e+170,\n",
              "        3.21868017e-057],\n",
              "       [5.29266601e+174, 2.59027907e-144, 7.79952704e-143,\n",
              "        4.25756448e-096],\n",
              "       [4.82337723e+228, 3.72704681e-057, 2.47187733e-056,\n",
              "        1.53159776e-047],\n",
              "       [1.50262588e-076, 1.04915306e-153, 1.94918966e-153,\n",
              "        3.11548672e-033],\n",
              "       [2.26334708e-076, 5.88742343e-062, 6.79767610e-310,\n",
              "        0.00000000e+000]])"
            ]
          },
          "metadata": {},
          "execution_count": 123
        }
      ]
    },
    {
      "cell_type": "code",
      "metadata": {
        "id": "XBtj_KIdaElh"
      },
      "source": [
        "for i in range(8):\n",
        "    arr[i] = i"
      ],
      "execution_count": null,
      "outputs": []
    },
    {
      "cell_type": "code",
      "metadata": {
        "colab": {
          "base_uri": "https://localhost:8080/"
        },
        "id": "vH34L-dbaJ7Y",
        "outputId": "d328c57b-d5f6-45f4-882d-111b5d82e0e5"
      },
      "source": [
        "arr"
      ],
      "execution_count": null,
      "outputs": [
        {
          "output_type": "execute_result",
          "data": {
            "text/plain": [
              "array([[0., 0., 0., 0.],\n",
              "       [1., 1., 1., 1.],\n",
              "       [2., 2., 2., 2.],\n",
              "       [3., 3., 3., 3.],\n",
              "       [4., 4., 4., 4.],\n",
              "       [5., 5., 5., 5.],\n",
              "       [6., 6., 6., 6.],\n",
              "       [7., 7., 7., 7.]])"
            ]
          },
          "metadata": {},
          "execution_count": 125
        }
      ]
    },
    {
      "cell_type": "code",
      "metadata": {
        "colab": {
          "base_uri": "https://localhost:8080/"
        },
        "id": "nq8EYwqsaKUz",
        "outputId": "71b030bf-2d40-44e6-eeea-f565adcdd119"
      },
      "source": [
        "arr[[4,3,0,6]]"
      ],
      "execution_count": null,
      "outputs": [
        {
          "output_type": "execute_result",
          "data": {
            "text/plain": [
              "array([[4., 4., 4., 4.],\n",
              "       [3., 3., 3., 3.],\n",
              "       [0., 0., 0., 0.],\n",
              "       [6., 6., 6., 6.]])"
            ]
          },
          "metadata": {},
          "execution_count": 126
        }
      ]
    },
    {
      "cell_type": "code",
      "metadata": {
        "colab": {
          "base_uri": "https://localhost:8080/"
        },
        "id": "6UfhxBKAaN3-",
        "outputId": "9def842f-b323-4503-f173-13d9785464ca"
      },
      "source": [
        "arr[[-3,-5,-7]]"
      ],
      "execution_count": null,
      "outputs": [
        {
          "output_type": "execute_result",
          "data": {
            "text/plain": [
              "array([[5., 5., 5., 5.],\n",
              "       [3., 3., 3., 3.],\n",
              "       [1., 1., 1., 1.]])"
            ]
          },
          "metadata": {},
          "execution_count": 127
        }
      ]
    },
    {
      "cell_type": "code",
      "metadata": {
        "id": "52cR2ZjIaP_v"
      },
      "source": [
        "arr = np.arange(32).reshape((8,4))"
      ],
      "execution_count": null,
      "outputs": []
    },
    {
      "cell_type": "code",
      "metadata": {
        "colab": {
          "base_uri": "https://localhost:8080/"
        },
        "id": "N81flDicaWGh",
        "outputId": "8ab036bd-c11b-4458-b0b0-9f6da76dd3e9"
      },
      "source": [
        "arr"
      ],
      "execution_count": null,
      "outputs": [
        {
          "output_type": "execute_result",
          "data": {
            "text/plain": [
              "array([[ 0,  1,  2,  3],\n",
              "       [ 4,  5,  6,  7],\n",
              "       [ 8,  9, 10, 11],\n",
              "       [12, 13, 14, 15],\n",
              "       [16, 17, 18, 19],\n",
              "       [20, 21, 22, 23],\n",
              "       [24, 25, 26, 27],\n",
              "       [28, 29, 30, 31]])"
            ]
          },
          "metadata": {},
          "execution_count": 129
        }
      ]
    },
    {
      "cell_type": "code",
      "metadata": {
        "colab": {
          "base_uri": "https://localhost:8080/"
        },
        "id": "Xahvr-jeaWj5",
        "outputId": "0510450c-1cd7-4710-c6e1-9295618d4bce"
      },
      "source": [
        "arr[[1,5,7,2],[0,3,1,2]]"
      ],
      "execution_count": null,
      "outputs": [
        {
          "output_type": "execute_result",
          "data": {
            "text/plain": [
              "array([ 4, 23, 29, 10])"
            ]
          },
          "metadata": {},
          "execution_count": 130
        }
      ]
    },
    {
      "cell_type": "code",
      "metadata": {
        "colab": {
          "base_uri": "https://localhost:8080/"
        },
        "id": "scCf0n5aaaZ9",
        "outputId": "b6d1b419-a24e-43e4-dfb9-d639fa477d45"
      },
      "source": [
        "arr[[1,5,7,2]][:, [0,3,1,2]]"
      ],
      "execution_count": null,
      "outputs": [
        {
          "output_type": "execute_result",
          "data": {
            "text/plain": [
              "array([[ 4,  7,  5,  6],\n",
              "       [20, 23, 21, 22],\n",
              "       [28, 31, 29, 30],\n",
              "       [ 8, 11,  9, 10]])"
            ]
          },
          "metadata": {},
          "execution_count": 131
        }
      ]
    },
    {
      "cell_type": "code",
      "metadata": {
        "colab": {
          "base_uri": "https://localhost:8080/"
        },
        "id": "VD_XxTlFao_D",
        "outputId": "1526e4a9-25fa-40b9-bfa2-d7dbd2267681"
      },
      "source": [
        "arr[:, [0,3,1,2]]"
      ],
      "execution_count": null,
      "outputs": [
        {
          "output_type": "execute_result",
          "data": {
            "text/plain": [
              "array([[ 0,  3,  1,  2],\n",
              "       [ 4,  7,  5,  6],\n",
              "       [ 8, 11,  9, 10],\n",
              "       [12, 15, 13, 14],\n",
              "       [16, 19, 17, 18],\n",
              "       [20, 23, 21, 22],\n",
              "       [24, 27, 25, 26],\n",
              "       [28, 31, 29, 30]])"
            ]
          },
          "metadata": {},
          "execution_count": 132
        }
      ]
    },
    {
      "cell_type": "code",
      "metadata": {
        "id": "79yY_F-8avrm"
      },
      "source": [
        "arr = np.arange(15).reshape((3,5))"
      ],
      "execution_count": null,
      "outputs": []
    },
    {
      "cell_type": "code",
      "metadata": {
        "colab": {
          "base_uri": "https://localhost:8080/"
        },
        "id": "g6Mxp72qa_rr",
        "outputId": "7f6214b2-2118-4f40-c1a7-36186e9199c7"
      },
      "source": [
        "arr"
      ],
      "execution_count": null,
      "outputs": [
        {
          "output_type": "execute_result",
          "data": {
            "text/plain": [
              "array([[ 0,  1,  2,  3,  4],\n",
              "       [ 5,  6,  7,  8,  9],\n",
              "       [10, 11, 12, 13, 14]])"
            ]
          },
          "metadata": {},
          "execution_count": 134
        }
      ]
    },
    {
      "cell_type": "code",
      "metadata": {
        "colab": {
          "base_uri": "https://localhost:8080/"
        },
        "id": "s45SMuKFa__Q",
        "outputId": "c2900543-5706-45b0-a893-305aaac993ba"
      },
      "source": [
        "arr.T"
      ],
      "execution_count": null,
      "outputs": [
        {
          "output_type": "execute_result",
          "data": {
            "text/plain": [
              "array([[ 0,  5, 10],\n",
              "       [ 1,  6, 11],\n",
              "       [ 2,  7, 12],\n",
              "       [ 3,  8, 13],\n",
              "       [ 4,  9, 14]])"
            ]
          },
          "metadata": {},
          "execution_count": 135
        }
      ]
    },
    {
      "cell_type": "code",
      "metadata": {
        "id": "kL6pRF3IbCMe"
      },
      "source": [
        "arr = np.random.randn(6,3)"
      ],
      "execution_count": null,
      "outputs": []
    },
    {
      "cell_type": "code",
      "metadata": {
        "colab": {
          "base_uri": "https://localhost:8080/"
        },
        "id": "TgZMxKjUbA53",
        "outputId": "7607d190-1aa2-43c9-e708-d8a108a63170"
      },
      "source": [
        "np.dot(arr.T, arr)"
      ],
      "execution_count": null,
      "outputs": [
        {
          "output_type": "execute_result",
          "data": {
            "text/plain": [
              "array([[4.98209646, 3.14586258, 2.17535138],\n",
              "       [3.14586258, 4.52407989, 1.41829362],\n",
              "       [2.17535138, 1.41829362, 8.27756718]])"
            ]
          },
          "metadata": {},
          "execution_count": 137
        }
      ]
    },
    {
      "cell_type": "code",
      "metadata": {
        "id": "k6IkMa8CbGQ_"
      },
      "source": [
        "arr = np.arange(16).reshape((2,2,4))"
      ],
      "execution_count": null,
      "outputs": []
    },
    {
      "cell_type": "code",
      "metadata": {
        "colab": {
          "base_uri": "https://localhost:8080/"
        },
        "id": "ZDqZsq6DbMKz",
        "outputId": "f5ec119a-9603-4dbc-8ffc-1b74a11a856e"
      },
      "source": [
        "arr"
      ],
      "execution_count": null,
      "outputs": [
        {
          "output_type": "execute_result",
          "data": {
            "text/plain": [
              "array([[[ 0,  1,  2,  3],\n",
              "        [ 4,  5,  6,  7]],\n",
              "\n",
              "       [[ 8,  9, 10, 11],\n",
              "        [12, 13, 14, 15]]])"
            ]
          },
          "metadata": {},
          "execution_count": 140
        }
      ]
    },
    {
      "cell_type": "code",
      "metadata": {
        "colab": {
          "base_uri": "https://localhost:8080/"
        },
        "id": "9PZBwX0mbQAM",
        "outputId": "add9a41a-ff68-4d14-f7a1-164d017ce1bd"
      },
      "source": [
        "arr.transpose((1,0,2))"
      ],
      "execution_count": null,
      "outputs": [
        {
          "output_type": "execute_result",
          "data": {
            "text/plain": [
              "array([[[ 0,  1,  2,  3],\n",
              "        [ 8,  9, 10, 11]],\n",
              "\n",
              "       [[ 4,  5,  6,  7],\n",
              "        [12, 13, 14, 15]]])"
            ]
          },
          "metadata": {},
          "execution_count": 141
        }
      ]
    },
    {
      "cell_type": "code",
      "metadata": {
        "colab": {
          "base_uri": "https://localhost:8080/"
        },
        "id": "6xhrr04pbTcQ",
        "outputId": "dbf01697-0941-4663-d3d6-d41ab4c524c7"
      },
      "source": [
        "arr.swapaxes(1,2)"
      ],
      "execution_count": null,
      "outputs": [
        {
          "output_type": "execute_result",
          "data": {
            "text/plain": [
              "array([[[ 0,  4],\n",
              "        [ 1,  5],\n",
              "        [ 2,  6],\n",
              "        [ 3,  7]],\n",
              "\n",
              "       [[ 8, 12],\n",
              "        [ 9, 13],\n",
              "        [10, 14],\n",
              "        [11, 15]]])"
            ]
          },
          "metadata": {},
          "execution_count": 143
        }
      ]
    },
    {
      "cell_type": "code",
      "metadata": {
        "id": "zlV7qxhchkbt"
      },
      "source": [
        "arr = np.arange(10)"
      ],
      "execution_count": null,
      "outputs": []
    },
    {
      "cell_type": "code",
      "metadata": {
        "colab": {
          "base_uri": "https://localhost:8080/"
        },
        "id": "wwyKA1Lghstg",
        "outputId": "b01f4f86-ef89-44dd-8502-4626f94958da"
      },
      "source": [
        "arr"
      ],
      "execution_count": null,
      "outputs": [
        {
          "output_type": "execute_result",
          "data": {
            "text/plain": [
              "array([0, 1, 2, 3, 4, 5, 6, 7, 8, 9])"
            ]
          },
          "metadata": {},
          "execution_count": 146
        }
      ]
    },
    {
      "cell_type": "code",
      "metadata": {
        "colab": {
          "base_uri": "https://localhost:8080/"
        },
        "id": "FxONfnr1htGv",
        "outputId": "a20b63d7-f5e6-4202-d3ed-6fa300bd4dfb"
      },
      "source": [
        "np.sqrt(arr)"
      ],
      "execution_count": null,
      "outputs": [
        {
          "output_type": "execute_result",
          "data": {
            "text/plain": [
              "array([0.        , 1.        , 1.41421356, 1.73205081, 2.        ,\n",
              "       2.23606798, 2.44948974, 2.64575131, 2.82842712, 3.        ])"
            ]
          },
          "metadata": {},
          "execution_count": 147
        }
      ]
    },
    {
      "cell_type": "code",
      "metadata": {
        "colab": {
          "base_uri": "https://localhost:8080/"
        },
        "id": "fnI-YTMPhuKm",
        "outputId": "912f97c2-fbd6-46ad-f460-51418f626b86"
      },
      "source": [
        "np.exp(arr)"
      ],
      "execution_count": null,
      "outputs": [
        {
          "output_type": "execute_result",
          "data": {
            "text/plain": [
              "array([1.00000000e+00, 2.71828183e+00, 7.38905610e+00, 2.00855369e+01,\n",
              "       5.45981500e+01, 1.48413159e+02, 4.03428793e+02, 1.09663316e+03,\n",
              "       2.98095799e+03, 8.10308393e+03])"
            ]
          },
          "metadata": {},
          "execution_count": 148
        }
      ]
    },
    {
      "cell_type": "code",
      "metadata": {
        "id": "YgTP6SYfhwe0"
      },
      "source": [
        "x = np.random.randn(8)"
      ],
      "execution_count": null,
      "outputs": []
    },
    {
      "cell_type": "code",
      "metadata": {
        "id": "WtlsCKeYhzIO"
      },
      "source": [
        "y = np.random.randn(8)"
      ],
      "execution_count": null,
      "outputs": []
    },
    {
      "cell_type": "code",
      "metadata": {
        "colab": {
          "base_uri": "https://localhost:8080/"
        },
        "id": "utq1ws4yh08z",
        "outputId": "73a0a7e2-4dc1-457b-802a-35d61593dc46"
      },
      "source": [
        "np.maximum(x,y)"
      ],
      "execution_count": null,
      "outputs": [
        {
          "output_type": "execute_result",
          "data": {
            "text/plain": [
              "array([ 0.92763477,  0.93414412, -0.41292957,  0.02136184,  0.09951725,\n",
              "        1.77256806,  1.41141102, -0.04815636])"
            ]
          },
          "metadata": {},
          "execution_count": 151
        }
      ]
    },
    {
      "cell_type": "code",
      "metadata": {
        "colab": {
          "base_uri": "https://localhost:8080/"
        },
        "id": "0sEatHdwh4A-",
        "outputId": "96afbf83-695e-4ae9-9239-1437c824b9b5"
      },
      "source": [
        "x"
      ],
      "execution_count": null,
      "outputs": [
        {
          "output_type": "execute_result",
          "data": {
            "text/plain": [
              "array([ 0.92763477, -0.47127731, -0.41292957, -0.73807544, -2.12867887,\n",
              "       -1.64606972,  0.34516764, -1.11140491])"
            ]
          },
          "metadata": {},
          "execution_count": 152
        }
      ]
    },
    {
      "cell_type": "code",
      "metadata": {
        "colab": {
          "base_uri": "https://localhost:8080/"
        },
        "id": "zf4yCns_h5ap",
        "outputId": "4fd3380f-735f-4e79-d6bd-590d8e05f3be"
      },
      "source": [
        "y"
      ],
      "execution_count": null,
      "outputs": [
        {
          "output_type": "execute_result",
          "data": {
            "text/plain": [
              "array([ 2.03571354e-04,  9.34144116e-01, -7.24822914e-01,  2.13618364e-02,\n",
              "        9.95172469e-02,  1.77256806e+00,  1.41141102e+00, -4.81563649e-02])"
            ]
          },
          "metadata": {},
          "execution_count": 153
        }
      ]
    },
    {
      "cell_type": "code",
      "metadata": {
        "id": "zFF4IJZHh5rV"
      },
      "source": [
        "arr = np.random.randn(7) * 5"
      ],
      "execution_count": null,
      "outputs": []
    },
    {
      "cell_type": "code",
      "metadata": {
        "colab": {
          "base_uri": "https://localhost:8080/"
        },
        "id": "g2nNSEVDihCy",
        "outputId": "9f590696-4de7-4757-8d18-09b1403dfd90"
      },
      "source": [
        "arr"
      ],
      "execution_count": null,
      "outputs": [
        {
          "output_type": "execute_result",
          "data": {
            "text/plain": [
              "array([-10.13891868,   3.52103069,   3.37048835,   6.2420238 ,\n",
              "         0.49341615,   9.85834044,  -6.15894073])"
            ]
          },
          "metadata": {},
          "execution_count": 155
        }
      ]
    },
    {
      "cell_type": "code",
      "metadata": {
        "id": "qmQdJZcZiiq4"
      },
      "source": [
        "remainder, whole_part = np.modf(arr)"
      ],
      "execution_count": null,
      "outputs": []
    },
    {
      "cell_type": "code",
      "metadata": {
        "colab": {
          "base_uri": "https://localhost:8080/"
        },
        "id": "CL8R5c-dinsH",
        "outputId": "1cdcd01e-7781-4854-cf8a-f4a67021fdc3"
      },
      "source": [
        "remainder"
      ],
      "execution_count": null,
      "outputs": [
        {
          "output_type": "execute_result",
          "data": {
            "text/plain": [
              "array([-0.13891868,  0.52103069,  0.37048835,  0.2420238 ,  0.49341615,\n",
              "        0.85834044, -0.15894073])"
            ]
          },
          "metadata": {},
          "execution_count": 158
        }
      ]
    },
    {
      "cell_type": "code",
      "metadata": {
        "colab": {
          "base_uri": "https://localhost:8080/"
        },
        "id": "iPK_434Bip0R",
        "outputId": "ff0a69e7-d0e2-4cb6-89a0-d9860dc5afc9"
      },
      "source": [
        "whole_part"
      ],
      "execution_count": null,
      "outputs": [
        {
          "output_type": "execute_result",
          "data": {
            "text/plain": [
              "array([-10.,   3.,   3.,   6.,   0.,   9.,  -6.])"
            ]
          },
          "metadata": {},
          "execution_count": 159
        }
      ]
    },
    {
      "cell_type": "code",
      "metadata": {
        "colab": {
          "base_uri": "https://localhost:8080/"
        },
        "id": "jG0j1a75i36d",
        "outputId": "7300e736-7abf-4bc2-e536-d002b44eaeb5"
      },
      "source": [
        "arr"
      ],
      "execution_count": null,
      "outputs": [
        {
          "output_type": "execute_result",
          "data": {
            "text/plain": [
              "array([-10.13891868,   3.52103069,   3.37048835,   6.2420238 ,\n",
              "         0.49341615,   9.85834044,  -6.15894073])"
            ]
          },
          "metadata": {},
          "execution_count": 160
        }
      ]
    },
    {
      "cell_type": "code",
      "metadata": {
        "colab": {
          "base_uri": "https://localhost:8080/"
        },
        "id": "PDr3N2Wzi2kh",
        "outputId": "4ddd34b7-2636-496f-eb22-eceeb33bd74a"
      },
      "source": [
        "np.sqrt(arr)"
      ],
      "execution_count": null,
      "outputs": [
        {
          "output_type": "stream",
          "name": "stderr",
          "text": [
            "/usr/local/lib/python3.7/dist-packages/ipykernel_launcher.py:1: RuntimeWarning: invalid value encountered in sqrt\n",
            "  \"\"\"Entry point for launching an IPython kernel.\n"
          ]
        },
        {
          "output_type": "execute_result",
          "data": {
            "text/plain": [
              "array([       nan, 1.87644096, 1.83588898, 2.49840425, 0.70243587,\n",
              "       3.13979943,        nan])"
            ]
          },
          "metadata": {},
          "execution_count": 162
        }
      ]
    },
    {
      "cell_type": "code",
      "metadata": {
        "colab": {
          "base_uri": "https://localhost:8080/"
        },
        "id": "SxCK5iXui5c6",
        "outputId": "545703ab-61fe-46f0-c9db-112415f1b154"
      },
      "source": [
        "np.sqrt(arr, arr)"
      ],
      "execution_count": null,
      "outputs": [
        {
          "output_type": "stream",
          "name": "stderr",
          "text": [
            "/usr/local/lib/python3.7/dist-packages/ipykernel_launcher.py:1: RuntimeWarning: invalid value encountered in sqrt\n",
            "  \"\"\"Entry point for launching an IPython kernel.\n"
          ]
        },
        {
          "output_type": "execute_result",
          "data": {
            "text/plain": [
              "array([       nan, 1.87644096, 1.83588898, 2.49840425, 0.70243587,\n",
              "       3.13979943,        nan])"
            ]
          },
          "metadata": {},
          "execution_count": 163
        }
      ]
    },
    {
      "cell_type": "code",
      "metadata": {
        "id": "_wFZZxWGjFVg"
      },
      "source": [
        "points = np.arange(-5,5,0.01)"
      ],
      "execution_count": null,
      "outputs": []
    },
    {
      "cell_type": "code",
      "metadata": {
        "id": "6PFBcPptjd0F"
      },
      "source": [
        "xs ,ys = np.meshgrid(points, points)"
      ],
      "execution_count": null,
      "outputs": []
    },
    {
      "cell_type": "code",
      "metadata": {
        "colab": {
          "base_uri": "https://localhost:8080/"
        },
        "id": "-klxc0Wujjl7",
        "outputId": "db275c7e-64fd-4e85-b335-581f5ce543eb"
      },
      "source": [
        "ys"
      ],
      "execution_count": null,
      "outputs": [
        {
          "output_type": "execute_result",
          "data": {
            "text/plain": [
              "array([[-5.  , -5.  , -5.  , ..., -5.  , -5.  , -5.  ],\n",
              "       [-4.99, -4.99, -4.99, ..., -4.99, -4.99, -4.99],\n",
              "       [-4.98, -4.98, -4.98, ..., -4.98, -4.98, -4.98],\n",
              "       ...,\n",
              "       [ 4.97,  4.97,  4.97, ...,  4.97,  4.97,  4.97],\n",
              "       [ 4.98,  4.98,  4.98, ...,  4.98,  4.98,  4.98],\n",
              "       [ 4.99,  4.99,  4.99, ...,  4.99,  4.99,  4.99]])"
            ]
          },
          "metadata": {},
          "execution_count": 167
        }
      ]
    },
    {
      "cell_type": "code",
      "metadata": {
        "colab": {
          "base_uri": "https://localhost:8080/"
        },
        "id": "x7VAQBA-jkcE",
        "outputId": "1218e0a7-faf2-4d83-dcc0-e9dfa718f5cf"
      },
      "source": [
        "xs"
      ],
      "execution_count": null,
      "outputs": [
        {
          "output_type": "execute_result",
          "data": {
            "text/plain": [
              "array([[-5.  , -4.99, -4.98, ...,  4.97,  4.98,  4.99],\n",
              "       [-5.  , -4.99, -4.98, ...,  4.97,  4.98,  4.99],\n",
              "       [-5.  , -4.99, -4.98, ...,  4.97,  4.98,  4.99],\n",
              "       ...,\n",
              "       [-5.  , -4.99, -4.98, ...,  4.97,  4.98,  4.99],\n",
              "       [-5.  , -4.99, -4.98, ...,  4.97,  4.98,  4.99],\n",
              "       [-5.  , -4.99, -4.98, ...,  4.97,  4.98,  4.99]])"
            ]
          },
          "metadata": {},
          "execution_count": 168
        }
      ]
    },
    {
      "cell_type": "code",
      "metadata": {
        "id": "_WnSZRrUjrkM"
      },
      "source": [
        "z = np.sqrt(xs ** 2 + ys ** 2)"
      ],
      "execution_count": null,
      "outputs": []
    },
    {
      "cell_type": "code",
      "metadata": {
        "colab": {
          "base_uri": "https://localhost:8080/"
        },
        "id": "0-GOJ9Izj0EG",
        "outputId": "0163118a-81e2-4719-9301-846696d42e1e"
      },
      "source": [
        "z"
      ],
      "execution_count": null,
      "outputs": [
        {
          "output_type": "execute_result",
          "data": {
            "text/plain": [
              "array([[7.07106781, 7.06400028, 7.05693985, ..., 7.04988652, 7.05693985,\n",
              "        7.06400028],\n",
              "       [7.06400028, 7.05692568, 7.04985815, ..., 7.04279774, 7.04985815,\n",
              "        7.05692568],\n",
              "       [7.05693985, 7.04985815, 7.04278354, ..., 7.03571603, 7.04278354,\n",
              "        7.04985815],\n",
              "       ...,\n",
              "       [7.04988652, 7.04279774, 7.03571603, ..., 7.0286414 , 7.03571603,\n",
              "        7.04279774],\n",
              "       [7.05693985, 7.04985815, 7.04278354, ..., 7.03571603, 7.04278354,\n",
              "        7.04985815],\n",
              "       [7.06400028, 7.05692568, 7.04985815, ..., 7.04279774, 7.04985815,\n",
              "        7.05692568]])"
            ]
          },
          "metadata": {},
          "execution_count": 170
        }
      ]
    },
    {
      "cell_type": "code",
      "metadata": {
        "id": "kbvb6jHBj0a_"
      },
      "source": [
        "import matplotlib.pyplot as plt"
      ],
      "execution_count": null,
      "outputs": []
    },
    {
      "cell_type": "code",
      "metadata": {
        "colab": {
          "base_uri": "https://localhost:8080/",
          "height": 287
        },
        "id": "R1abIC3bj3Tu",
        "outputId": "087551c0-919d-462f-ac64-98089ae7a768"
      },
      "source": [
        "plt.imshow(z, cmap = plt.cm.gray); plt.colorbar()"
      ],
      "execution_count": null,
      "outputs": [
        {
          "output_type": "execute_result",
          "data": {
            "text/plain": [
              "<matplotlib.colorbar.Colorbar at 0x7f4019767750>"
            ]
          },
          "metadata": {},
          "execution_count": 172
        },
        {
          "output_type": "display_data",
          "data": {
            "image/png": "[encoded data removed]",
            "text/plain": [
              "<Figure size 432x288 with 2 Axes>"
            ]
          },
          "metadata": {
            "needs_background": "light"
          }
        }
      ]
    },
    {
      "cell_type": "code",
      "metadata": {
        "id": "t3Sf0g6yj6mW"
      },
      "source": [
        "xarr = np.array([1.1,1.2,1.3,1.4,1.5])"
      ],
      "execution_count": null,
      "outputs": []
    },
    {
      "cell_type": "code",
      "metadata": {
        "id": "1rTbXbOGj_6K"
      },
      "source": [
        "yarr = np.array([2.1,2.2,2.3,2.4,2.5])"
      ],
      "execution_count": null,
      "outputs": []
    },
    {
      "cell_type": "code",
      "metadata": {
        "id": "QWx54M77kCZt"
      },
      "source": [
        "cond = np.array([True, False, True, True, False])"
      ],
      "execution_count": null,
      "outputs": []
    },
    {
      "cell_type": "code",
      "metadata": {
        "id": "qa4lQwfNkFib"
      },
      "source": [
        "result = [(x if c else y) for x,y,c in zip(xarr, yarr, cond)]"
      ],
      "execution_count": null,
      "outputs": []
    },
    {
      "cell_type": "code",
      "metadata": {
        "colab": {
          "base_uri": "https://localhost:8080/"
        },
        "id": "x2BcIs1JkQ1_",
        "outputId": "0c156308-d829-4c37-dc61-0579a8bd5715"
      },
      "source": [
        "result"
      ],
      "execution_count": null,
      "outputs": [
        {
          "output_type": "execute_result",
          "data": {
            "text/plain": [
              "[1.1, 2.2, 1.3, 1.4, 2.5]"
            ]
          },
          "metadata": {},
          "execution_count": 177
        }
      ]
    },
    {
      "cell_type": "code",
      "metadata": {
        "id": "F6UoT2UokS_1"
      },
      "source": [
        "arr = np.random.randn(4,4)"
      ],
      "execution_count": null,
      "outputs": []
    },
    {
      "cell_type": "code",
      "metadata": {
        "colab": {
          "base_uri": "https://localhost:8080/"
        },
        "id": "h8Lih7pjkXHG",
        "outputId": "ce1324bf-7ecf-40c4-9a45-cc2df563b5c8"
      },
      "source": [
        "arr"
      ],
      "execution_count": null,
      "outputs": [
        {
          "output_type": "execute_result",
          "data": {
            "text/plain": [
              "array([[ 0.86658841, -1.72488866, -0.26454914,  0.80812799],\n",
              "       [ 0.03189275,  1.67938587,  0.93997538,  0.59480351],\n",
              "       [ 0.10812474,  2.39509748, -0.81531768, -0.82483979],\n",
              "       [ 0.60131381, -0.93869741,  1.36741036,  1.56202369]])"
            ]
          },
          "metadata": {},
          "execution_count": 179
        }
      ]
    },
    {
      "cell_type": "code",
      "metadata": {
        "colab": {
          "base_uri": "https://localhost:8080/"
        },
        "id": "y3n1SrqykXjl",
        "outputId": "c70d8e7e-2eeb-4969-f333-96d7e459d2e0"
      },
      "source": [
        "arr > 0 "
      ],
      "execution_count": null,
      "outputs": [
        {
          "output_type": "execute_result",
          "data": {
            "text/plain": [
              "array([[ True, False, False,  True],\n",
              "       [ True,  True,  True,  True],\n",
              "       [ True,  True, False, False],\n",
              "       [ True, False,  True,  True]])"
            ]
          },
          "metadata": {},
          "execution_count": 180
        }
      ]
    },
    {
      "cell_type": "code",
      "metadata": {
        "colab": {
          "base_uri": "https://localhost:8080/"
        },
        "id": "yMmrKNljkYQg",
        "outputId": "1db806e2-d465-4d33-fef6-55c37e7235ed"
      },
      "source": [
        "np.where(arr >0, 2, -2)"
      ],
      "execution_count": null,
      "outputs": [
        {
          "output_type": "execute_result",
          "data": {
            "text/plain": [
              "array([[ 2, -2, -2,  2],\n",
              "       [ 2,  2,  2,  2],\n",
              "       [ 2,  2, -2, -2],\n",
              "       [ 2, -2,  2,  2]])"
            ]
          },
          "metadata": {},
          "execution_count": 181
        }
      ]
    },
    {
      "cell_type": "code",
      "metadata": {
        "colab": {
          "base_uri": "https://localhost:8080/"
        },
        "id": "H1BmhiwQkcFT",
        "outputId": "bfcee706-0fb2-4464-82b4-23cf85d8f953"
      },
      "source": [
        "np.where(arr >0, 2, arr)"
      ],
      "execution_count": null,
      "outputs": [
        {
          "output_type": "execute_result",
          "data": {
            "text/plain": [
              "array([[ 2.        , -1.72488866, -0.26454914,  2.        ],\n",
              "       [ 2.        ,  2.        ,  2.        ,  2.        ],\n",
              "       [ 2.        ,  2.        , -0.81531768, -0.82483979],\n",
              "       [ 2.        , -0.93869741,  2.        ,  2.        ]])"
            ]
          },
          "metadata": {},
          "execution_count": 182
        }
      ]
    },
    {
      "cell_type": "code",
      "metadata": {
        "id": "VewCsF-4kfV3"
      },
      "source": [
        "arr = np.random.randn(5,4)"
      ],
      "execution_count": null,
      "outputs": []
    },
    {
      "cell_type": "code",
      "metadata": {
        "colab": {
          "base_uri": "https://localhost:8080/"
        },
        "id": "_A2rJ2duki0W",
        "outputId": "d6355ee3-b027-4204-bff2-ef17b91ff002"
      },
      "source": [
        "arr"
      ],
      "execution_count": null,
      "outputs": [
        {
          "output_type": "execute_result",
          "data": {
            "text/plain": [
              "array([[-0.27424133,  1.30512707, -1.64194423,  0.47148905],\n",
              "       [-0.7396943 , -0.13894466,  0.60995666, -0.9828902 ],\n",
              "       [ 1.06374991,  0.48616288,  0.86031207,  1.0080193 ],\n",
              "       [-0.21782137,  0.84636374,  0.52585825,  0.61735043],\n",
              "       [-0.95041429, -0.36000286,  0.69838042, -0.47885273]])"
            ]
          },
          "metadata": {},
          "execution_count": 184
        }
      ]
    },
    {
      "cell_type": "code",
      "metadata": {
        "colab": {
          "base_uri": "https://localhost:8080/"
        },
        "id": "gw2V5Q2gkk3X",
        "outputId": "404e8e8e-31e0-46ee-86f6-5f758241a293"
      },
      "source": [
        "arr.mean()"
      ],
      "execution_count": null,
      "outputs": [
        {
          "output_type": "execute_result",
          "data": {
            "text/plain": [
              "0.1353981900059103"
            ]
          },
          "metadata": {},
          "execution_count": 185
        }
      ]
    },
    {
      "cell_type": "code",
      "metadata": {
        "colab": {
          "base_uri": "https://localhost:8080/"
        },
        "id": "bEEJ7JUKkldA",
        "outputId": "43250cee-2113-4928-b320-7c8c17105a58"
      },
      "source": [
        "np.mean(arr)"
      ],
      "execution_count": null,
      "outputs": [
        {
          "output_type": "execute_result",
          "data": {
            "text/plain": [
              "0.1353981900059103"
            ]
          },
          "metadata": {},
          "execution_count": 186
        }
      ]
    },
    {
      "cell_type": "code",
      "metadata": {
        "colab": {
          "base_uri": "https://localhost:8080/"
        },
        "id": "oZrI8qfFkmia",
        "outputId": "aadbb925-ebc5-420f-b571-fdb21cd26871"
      },
      "source": [
        "arr.sum()"
      ],
      "execution_count": null,
      "outputs": [
        {
          "output_type": "execute_result",
          "data": {
            "text/plain": [
              "2.7079638001182063"
            ]
          },
          "metadata": {},
          "execution_count": 187
        }
      ]
    },
    {
      "cell_type": "code",
      "metadata": {
        "colab": {
          "base_uri": "https://localhost:8080/"
        },
        "id": "SOBCJ0bVkvgl",
        "outputId": "eca1dcf9-313d-442c-98bd-9543793b155d"
      },
      "source": [
        "arr.mean(axis = 1)"
      ],
      "execution_count": null,
      "outputs": [
        {
          "output_type": "execute_result",
          "data": {
            "text/plain": [
              "array([-0.03489236, -0.31289313,  0.85456104,  0.44293776, -0.27272237])"
            ]
          },
          "metadata": {},
          "execution_count": 188
        }
      ]
    },
    {
      "cell_type": "code",
      "metadata": {
        "colab": {
          "base_uri": "https://localhost:8080/"
        },
        "id": "2gmpRVSOkxHA",
        "outputId": "62fcbe08-d843-4a6b-80ab-d665a0d79e9d"
      },
      "source": [
        "arr.sum(axis = 0)"
      ],
      "execution_count": null,
      "outputs": [
        {
          "output_type": "execute_result",
          "data": {
            "text/plain": [
              "array([-1.1184214 ,  2.13870617,  1.05256317,  0.63511585])"
            ]
          },
          "metadata": {},
          "execution_count": 189
        }
      ]
    },
    {
      "cell_type": "code",
      "metadata": {
        "id": "Gqeb8-TBmW4y"
      },
      "source": [
        "arr = np.array([0,1,2,3,4,5,6,7])"
      ],
      "execution_count": null,
      "outputs": []
    },
    {
      "cell_type": "code",
      "metadata": {
        "colab": {
          "base_uri": "https://localhost:8080/"
        },
        "id": "1WYm4l-smawZ",
        "outputId": "bc224db8-b04c-4aff-a755-493a61cda747"
      },
      "source": [
        "arr.cumsum()"
      ],
      "execution_count": null,
      "outputs": [
        {
          "output_type": "execute_result",
          "data": {
            "text/plain": [
              "array([ 0,  1,  3,  6, 10, 15, 21, 28])"
            ]
          },
          "metadata": {},
          "execution_count": 191
        }
      ]
    },
    {
      "cell_type": "code",
      "metadata": {
        "id": "TxHGIsCombyJ"
      },
      "source": [
        "arr = np.array([[0,1,2],[3,4,5],[6,7,8]])"
      ],
      "execution_count": null,
      "outputs": []
    },
    {
      "cell_type": "code",
      "metadata": {
        "colab": {
          "base_uri": "https://localhost:8080/"
        },
        "id": "4ZcHJGvOmgMr",
        "outputId": "a8fb8249-f2ab-4ce9-ddb9-a0b05d1ae3c8"
      },
      "source": [
        "arr"
      ],
      "execution_count": null,
      "outputs": [
        {
          "output_type": "execute_result",
          "data": {
            "text/plain": [
              "array([[0, 1, 2],\n",
              "       [3, 4, 5],\n",
              "       [6, 7, 8]])"
            ]
          },
          "metadata": {},
          "execution_count": 193
        }
      ]
    },
    {
      "cell_type": "code",
      "metadata": {
        "colab": {
          "base_uri": "https://localhost:8080/"
        },
        "id": "DMtYskNimgz8",
        "outputId": "0c513b48-01a7-4b4b-f575-9993512a43e4"
      },
      "source": [
        "arr.cumsum(axis = 0)"
      ],
      "execution_count": null,
      "outputs": [
        {
          "output_type": "execute_result",
          "data": {
            "text/plain": [
              "array([[ 0,  1,  2],\n",
              "       [ 3,  5,  7],\n",
              "       [ 9, 12, 15]])"
            ]
          },
          "metadata": {},
          "execution_count": 194
        }
      ]
    },
    {
      "cell_type": "code",
      "metadata": {
        "colab": {
          "base_uri": "https://localhost:8080/"
        },
        "id": "dLuUYRl7mjwf",
        "outputId": "00d85fbe-cca5-455d-e37f-cf613813424a"
      },
      "source": [
        "arr.cumprod(axis = 1)"
      ],
      "execution_count": null,
      "outputs": [
        {
          "output_type": "execute_result",
          "data": {
            "text/plain": [
              "array([[  0,   0,   0],\n",
              "       [  3,  12,  60],\n",
              "       [  6,  42, 336]])"
            ]
          },
          "metadata": {},
          "execution_count": 195
        }
      ]
    },
    {
      "cell_type": "code",
      "metadata": {
        "id": "vfP_PusQmlzi"
      },
      "source": [
        "arr = np.random.randn(100)"
      ],
      "execution_count": null,
      "outputs": []
    },
    {
      "cell_type": "code",
      "metadata": {
        "colab": {
          "base_uri": "https://localhost:8080/"
        },
        "id": "M3DyI784mrim",
        "outputId": "7c93989c-a362-45cd-9eee-312ed75ab16b"
      },
      "source": [
        "(arr>0).sum()"
      ],
      "execution_count": null,
      "outputs": [
        {
          "output_type": "execute_result",
          "data": {
            "text/plain": [
              "42"
            ]
          },
          "metadata": {},
          "execution_count": 197
        }
      ]
    },
    {
      "cell_type": "code",
      "metadata": {
        "id": "phADvGPYmtJ5"
      },
      "source": [
        "bools = np.array([False, False, True, False])"
      ],
      "execution_count": null,
      "outputs": []
    },
    {
      "cell_type": "code",
      "metadata": {
        "colab": {
          "base_uri": "https://localhost:8080/"
        },
        "id": "0gNyuUe1m474",
        "outputId": "ce73441c-4197-4963-b3ab-b6672e1ce3ca"
      },
      "source": [
        "bools.any()"
      ],
      "execution_count": null,
      "outputs": [
        {
          "output_type": "execute_result",
          "data": {
            "text/plain": [
              "True"
            ]
          },
          "metadata": {},
          "execution_count": 199
        }
      ]
    },
    {
      "cell_type": "code",
      "metadata": {
        "colab": {
          "base_uri": "https://localhost:8080/"
        },
        "id": "psByJ_Ykm5e8",
        "outputId": "389d0782-3fc7-4386-83e5-7af2a912beb2"
      },
      "source": [
        "bools.all()"
      ],
      "execution_count": null,
      "outputs": [
        {
          "output_type": "execute_result",
          "data": {
            "text/plain": [
              "False"
            ]
          },
          "metadata": {},
          "execution_count": 200
        }
      ]
    },
    {
      "cell_type": "code",
      "metadata": {
        "id": "8vMkKquMm6Pl"
      },
      "source": [
        "arr = np.random.randn(6)"
      ],
      "execution_count": null,
      "outputs": []
    },
    {
      "cell_type": "code",
      "metadata": {
        "colab": {
          "base_uri": "https://localhost:8080/"
        },
        "id": "y0SwnQgMm98f",
        "outputId": "ca8cfe97-6ed6-4d4e-e03c-2d6d81c201b4"
      },
      "source": [
        "arr"
      ],
      "execution_count": null,
      "outputs": [
        {
          "output_type": "execute_result",
          "data": {
            "text/plain": [
              "array([ 0.39159547, -1.12020401,  0.01329088,  0.64223249, -0.61222771,\n",
              "       -0.58443198])"
            ]
          },
          "metadata": {},
          "execution_count": 202
        }
      ]
    },
    {
      "cell_type": "code",
      "metadata": {
        "id": "jcxLDmAdm-yJ"
      },
      "source": [
        "arr.sort()"
      ],
      "execution_count": null,
      "outputs": []
    },
    {
      "cell_type": "code",
      "metadata": {
        "colab": {
          "base_uri": "https://localhost:8080/"
        },
        "id": "323mBawVnBUw",
        "outputId": "c5de9377-3202-4e21-f717-37071ef3a29d"
      },
      "source": [
        "arr"
      ],
      "execution_count": null,
      "outputs": [
        {
          "output_type": "execute_result",
          "data": {
            "text/plain": [
              "array([-1.12020401, -0.61222771, -0.58443198,  0.01329088,  0.39159547,\n",
              "        0.64223249])"
            ]
          },
          "metadata": {},
          "execution_count": 204
        }
      ]
    },
    {
      "cell_type": "code",
      "metadata": {
        "id": "twDICJFjnC47"
      },
      "source": [
        "arr = np.random.randn(5,3)"
      ],
      "execution_count": null,
      "outputs": []
    },
    {
      "cell_type": "code",
      "metadata": {
        "id": "J-W9xTXRnFxf"
      },
      "source": [
        "arr.sort(1)"
      ],
      "execution_count": null,
      "outputs": []
    },
    {
      "cell_type": "code",
      "metadata": {
        "colab": {
          "base_uri": "https://localhost:8080/"
        },
        "id": "4tEakwahnGf9",
        "outputId": "2b3cef7b-6067-40b5-ab84-b401daadaa24"
      },
      "source": [
        "arr"
      ],
      "execution_count": null,
      "outputs": [
        {
          "output_type": "execute_result",
          "data": {
            "text/plain": [
              "array([[-1.38235806, -0.38007497, -0.2094197 ],\n",
              "       [ 0.12023417,  1.17412006,  1.29529186],\n",
              "       [-1.61633731,  0.1051625 ,  0.62619275],\n",
              "       [-0.951569  ,  0.30835448,  1.1572683 ],\n",
              "       [-1.12025299, -0.25323159, -0.07773223]])"
            ]
          },
          "metadata": {},
          "execution_count": 207
        }
      ]
    },
    {
      "cell_type": "code",
      "metadata": {
        "id": "GLVpO2j3nHDK"
      },
      "source": [
        "large_arr = np.random.randn(1000)"
      ],
      "execution_count": null,
      "outputs": []
    },
    {
      "cell_type": "code",
      "metadata": {
        "id": "yiEB2eoanMrE"
      },
      "source": [
        "large_arr.sort()"
      ],
      "execution_count": null,
      "outputs": []
    },
    {
      "cell_type": "code",
      "metadata": {
        "colab": {
          "base_uri": "https://localhost:8080/"
        },
        "id": "Lx3_-j12nO-a",
        "outputId": "cb02e279-0dba-4da4-b8de-d297847838e7"
      },
      "source": [
        "large_arr[int(0.05 * len(large_arr))]"
      ],
      "execution_count": null,
      "outputs": [
        {
          "output_type": "execute_result",
          "data": {
            "text/plain": [
              "-1.5724135836911777"
            ]
          },
          "metadata": {},
          "execution_count": 210
        }
      ]
    },
    {
      "cell_type": "code",
      "metadata": {
        "id": "U7Py_qbhnSdr"
      },
      "source": [
        "names = np.array(['Bob','Joe','Will','Bob','Will','Joe','Joe'])"
      ],
      "execution_count": null,
      "outputs": []
    },
    {
      "cell_type": "code",
      "metadata": {
        "colab": {
          "base_uri": "https://localhost:8080/"
        },
        "id": "Ait2axBUnYi7",
        "outputId": "5a4d9156-bfa5-4736-e092-269e6b07d703"
      },
      "source": [
        "np.unique(names)"
      ],
      "execution_count": null,
      "outputs": [
        {
          "output_type": "execute_result",
          "data": {
            "text/plain": [
              "array(['Bob', 'Joe', 'Will'], dtype='<U4')"
            ]
          },
          "metadata": {},
          "execution_count": 212
        }
      ]
    },
    {
      "cell_type": "code",
      "metadata": {
        "id": "DdrTdTIKnaW3"
      },
      "source": [
        "ints = np.array([3,3,3,2,2,1,1,4,4])"
      ],
      "execution_count": null,
      "outputs": []
    },
    {
      "cell_type": "code",
      "metadata": {
        "colab": {
          "base_uri": "https://localhost:8080/"
        },
        "id": "YcLdCpWOndjT",
        "outputId": "eb6a2d53-b1b4-427c-ac4c-402732a641da"
      },
      "source": [
        "np.unique(ints)"
      ],
      "execution_count": null,
      "outputs": [
        {
          "output_type": "execute_result",
          "data": {
            "text/plain": [
              "array([1, 2, 3, 4])"
            ]
          },
          "metadata": {},
          "execution_count": 214
        }
      ]
    },
    {
      "cell_type": "code",
      "metadata": {
        "colab": {
          "base_uri": "https://localhost:8080/"
        },
        "id": "_t254MPanepM",
        "outputId": "ab3610bb-1097-4389-ad83-dfff26f739ff"
      },
      "source": [
        "sorted(set(names))"
      ],
      "execution_count": null,
      "outputs": [
        {
          "output_type": "execute_result",
          "data": {
            "text/plain": [
              "['Bob', 'Joe', 'Will']"
            ]
          },
          "metadata": {},
          "execution_count": 215
        }
      ]
    },
    {
      "cell_type": "code",
      "metadata": {
        "id": "0mAMmAodngkF"
      },
      "source": [
        "values = np.array([6,0,0,3,2,5,6])"
      ],
      "execution_count": null,
      "outputs": []
    },
    {
      "cell_type": "code",
      "metadata": {
        "colab": {
          "base_uri": "https://localhost:8080/"
        },
        "id": "xUR3dpZXnkEZ",
        "outputId": "24e1ce74-e994-42f9-98c1-a750737fc019"
      },
      "source": [
        "np.in1d(values, [2,3,6])"
      ],
      "execution_count": null,
      "outputs": [
        {
          "output_type": "execute_result",
          "data": {
            "text/plain": [
              "array([ True, False, False,  True,  True, False,  True])"
            ]
          },
          "metadata": {},
          "execution_count": 217
        }
      ]
    },
    {
      "cell_type": "code",
      "metadata": {
        "id": "3ce3Q048nmTf"
      },
      "source": [
        "arr = np.arange(10)"
      ],
      "execution_count": null,
      "outputs": []
    },
    {
      "cell_type": "code",
      "metadata": {
        "id": "ePNAWZ7znvfj"
      },
      "source": [
        "np.save('some_array',arr)"
      ],
      "execution_count": null,
      "outputs": []
    },
    {
      "cell_type": "code",
      "metadata": {
        "colab": {
          "base_uri": "https://localhost:8080/"
        },
        "id": "r4mZzjIHnx3X",
        "outputId": "feee0d67-6710-4844-bcaa-289105642985"
      },
      "source": [
        "np.load('some_array.npy')"
      ],
      "execution_count": null,
      "outputs": [
        {
          "output_type": "execute_result",
          "data": {
            "text/plain": [
              "array([0, 1, 2, 3, 4, 5, 6, 7, 8, 9])"
            ]
          },
          "metadata": {},
          "execution_count": 220
        }
      ]
    },
    {
      "cell_type": "code",
      "metadata": {
        "id": "j29z15AMnzzx"
      },
      "source": [
        "np.savez('array_archive.npz', a = arr, b = arr)"
      ],
      "execution_count": null,
      "outputs": []
    },
    {
      "cell_type": "code",
      "metadata": {
        "id": "MvOW15Evn_md"
      },
      "source": [
        "arch = np.load('array_archive.npz')"
      ],
      "execution_count": null,
      "outputs": []
    },
    {
      "cell_type": "code",
      "metadata": {
        "colab": {
          "base_uri": "https://localhost:8080/"
        },
        "id": "1lE8ukWsoCvu",
        "outputId": "8aac0ba4-48ba-43aa-cf53-ea65a5eab939"
      },
      "source": [
        "arch['b']"
      ],
      "execution_count": null,
      "outputs": [
        {
          "output_type": "execute_result",
          "data": {
            "text/plain": [
              "array([0, 1, 2, 3, 4, 5, 6, 7, 8, 9])"
            ]
          },
          "metadata": {},
          "execution_count": 224
        }
      ]
    },
    {
      "cell_type": "code",
      "metadata": {
        "id": "ebgrKdLioDa0"
      },
      "source": [
        "x = np.array([[1.,2.,3.],[4.,5.,6.]])"
      ],
      "execution_count": null,
      "outputs": []
    },
    {
      "cell_type": "code",
      "metadata": {
        "id": "ZS8jjKr5oJUk"
      },
      "source": [
        "y = np.array([[6.,23.],[-1,7],[8,9]])"
      ],
      "execution_count": null,
      "outputs": []
    },
    {
      "cell_type": "code",
      "metadata": {
        "colab": {
          "base_uri": "https://localhost:8080/"
        },
        "id": "Bo_O1LBKoNna",
        "outputId": "f3419634-93c7-48bd-8f52-4e3695bebd27"
      },
      "source": [
        "x"
      ],
      "execution_count": null,
      "outputs": [
        {
          "output_type": "execute_result",
          "data": {
            "text/plain": [
              "array([[1., 2., 3.],\n",
              "       [4., 5., 6.]])"
            ]
          },
          "metadata": {},
          "execution_count": 227
        }
      ]
    },
    {
      "cell_type": "code",
      "metadata": {
        "colab": {
          "base_uri": "https://localhost:8080/"
        },
        "id": "rKYNrawfoN6z",
        "outputId": "a390d88c-641d-48e1-8954-3d3500d0125b"
      },
      "source": [
        "y"
      ],
      "execution_count": null,
      "outputs": [
        {
          "output_type": "execute_result",
          "data": {
            "text/plain": [
              "array([[ 6., 23.],\n",
              "       [-1.,  7.],\n",
              "       [ 8.,  9.]])"
            ]
          },
          "metadata": {},
          "execution_count": 228
        }
      ]
    },
    {
      "cell_type": "code",
      "metadata": {
        "colab": {
          "base_uri": "https://localhost:8080/"
        },
        "id": "p8kxLVBnoOnv",
        "outputId": "849fb994-2efb-47fa-c517-773047a25c15"
      },
      "source": [
        "x.dot(y)"
      ],
      "execution_count": null,
      "outputs": [
        {
          "output_type": "execute_result",
          "data": {
            "text/plain": [
              "array([[ 28.,  64.],\n",
              "       [ 67., 181.]])"
            ]
          },
          "metadata": {},
          "execution_count": 229
        }
      ]
    },
    {
      "cell_type": "code",
      "metadata": {
        "colab": {
          "base_uri": "https://localhost:8080/"
        },
        "id": "HUxK9VIJoP1t",
        "outputId": "de9fd38d-6716-4f33-f89f-83a0750522fe"
      },
      "source": [
        "np.dot(x,y)"
      ],
      "execution_count": null,
      "outputs": [
        {
          "output_type": "execute_result",
          "data": {
            "text/plain": [
              "array([[ 28.,  64.],\n",
              "       [ 67., 181.]])"
            ]
          },
          "metadata": {},
          "execution_count": 230
        }
      ]
    },
    {
      "cell_type": "code",
      "metadata": {
        "colab": {
          "base_uri": "https://localhost:8080/"
        },
        "id": "b9BWiqeUoROF",
        "outputId": "a6a921b2-ca08-4685-9dfa-b55f7cd4b4d7"
      },
      "source": [
        "np.dot(x, np.ones(3))"
      ],
      "execution_count": null,
      "outputs": [
        {
          "output_type": "execute_result",
          "data": {
            "text/plain": [
              "array([ 6., 15.])"
            ]
          },
          "metadata": {},
          "execution_count": 231
        }
      ]
    },
    {
      "cell_type": "code",
      "metadata": {
        "colab": {
          "base_uri": "https://localhost:8080/"
        },
        "id": "rPZjSF_roT4j",
        "outputId": "ff9daf91-f48f-4033-f02b-5e7515d74196"
      },
      "source": [
        "x.shape"
      ],
      "execution_count": null,
      "outputs": [
        {
          "output_type": "execute_result",
          "data": {
            "text/plain": [
              "(2, 3)"
            ]
          },
          "metadata": {},
          "execution_count": 232
        }
      ]
    },
    {
      "cell_type": "code",
      "metadata": {
        "colab": {
          "base_uri": "https://localhost:8080/"
        },
        "id": "qgU7ajfjorGu",
        "outputId": "468fb5ef-26ba-4829-dea0-0b80a047a57d"
      },
      "source": [
        "np.ones(3).shape"
      ],
      "execution_count": null,
      "outputs": [
        {
          "output_type": "execute_result",
          "data": {
            "text/plain": [
              "(3,)"
            ]
          },
          "metadata": {},
          "execution_count": 233
        }
      ]
    },
    {
      "cell_type": "code",
      "metadata": {
        "colab": {
          "base_uri": "https://localhost:8080/"
        },
        "id": "WBR2Uewfos7s",
        "outputId": "f0c13bee-5546-4588-db1d-d629b4318759"
      },
      "source": [
        "np.ones(3)"
      ],
      "execution_count": null,
      "outputs": [
        {
          "output_type": "execute_result",
          "data": {
            "text/plain": [
              "array([1., 1., 1.])"
            ]
          },
          "metadata": {},
          "execution_count": 234
        }
      ]
    },
    {
      "cell_type": "code",
      "metadata": {
        "id": "xGTX_C4Sou1v"
      },
      "source": [
        "samples = np.random.normal(size = (4,4))"
      ],
      "execution_count": null,
      "outputs": []
    },
    {
      "cell_type": "code",
      "metadata": {
        "colab": {
          "base_uri": "https://localhost:8080/"
        },
        "id": "OvSlvHT5o71d",
        "outputId": "e54a646d-7bd5-41f8-98f1-97fa78a8fef8"
      },
      "source": [
        "samples"
      ],
      "execution_count": null,
      "outputs": [
        {
          "output_type": "execute_result",
          "data": {
            "text/plain": [
              "array([[ 0.02001025,  0.82450003, -1.35333209, -0.50507132],\n",
              "       [-1.10371648,  0.36292166, -0.03099264,  1.31171424],\n",
              "       [ 0.75132449,  1.12034989, -0.72856081, -1.1183889 ],\n",
              "       [-1.47522755, -0.27331031, -0.03473128,  1.06757864]])"
            ]
          },
          "metadata": {},
          "execution_count": 236
        }
      ]
    },
    {
      "cell_type": "code",
      "metadata": {
        "id": "qGHo3A-xo89x"
      },
      "source": [
        "from random import normalvariate"
      ],
      "execution_count": null,
      "outputs": []
    },
    {
      "cell_type": "code",
      "metadata": {
        "id": "BB6DWF2CpAmy"
      },
      "source": [
        "N = 1000000"
      ],
      "execution_count": null,
      "outputs": []
    },
    {
      "cell_type": "code",
      "metadata": {
        "colab": {
          "base_uri": "https://localhost:8080/"
        },
        "id": "vH_jnNe0pCfy",
        "outputId": "6734e4ce-4952-48a5-cdb3-e21339035274"
      },
      "source": [
        "%timeit samples = [normalvariate(0,1) for _ in range(N)]"
      ],
      "execution_count": null,
      "outputs": [
        {
          "output_type": "stream",
          "name": "stdout",
          "text": [
            "1 loop, best of 5: 935 ms per loop\n"
          ]
        }
      ]
    },
    {
      "cell_type": "code",
      "metadata": {
        "colab": {
          "base_uri": "https://localhost:8080/"
        },
        "id": "i7_CByB5pGhn",
        "outputId": "17b26652-d0dd-44bd-af2a-ac94183d9f88"
      },
      "source": [
        "%timeit np.random.normal(size=N)"
      ],
      "execution_count": null,
      "outputs": [
        {
          "output_type": "stream",
          "name": "stdout",
          "text": [
            "10 loops, best of 5: 44.7 ms per loop\n"
          ]
        }
      ]
    },
    {
      "cell_type": "code",
      "metadata": {
        "id": "GbDN3Lk3pOHt"
      },
      "source": [
        ""
      ],
      "execution_count": null,
      "outputs": []
    }
  ]
}